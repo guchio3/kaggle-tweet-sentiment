{
 "cells": [
  {
   "cell_type": "code",
   "execution_count": 25,
   "metadata": {
    "scrolled": true
   },
   "outputs": [],
   "source": [
    "from glob import glob\n",
    "from tqdm import tqdm_notebook as tqdm\n",
    "\n",
    "import numpy as np\n",
    "import pandas as pd\n",
    "\n",
    "import torch\n",
    "\n",
    "from matplotlib import pyplot as plt\n",
    "import seaborn as sns\n",
    "\n",
    "from transformers import BertTokenizer, BertModel"
   ]
  },
  {
   "cell_type": "code",
   "execution_count": null,
   "metadata": {},
   "outputs": [],
   "source": []
  },
  {
   "cell_type": "markdown",
   "metadata": {},
   "source": [
    "## e060 の valid を確認する"
   ]
  },
  {
   "cell_type": "code",
   "execution_count": 26,
   "metadata": {},
   "outputs": [
    {
     "data": {
      "text/plain": [
       "(27481, 4)"
      ]
     },
     "metadata": {},
     "output_type": "display_data"
    },
    {
     "data": {
      "text/html": [
       "<div>\n",
       "<style scoped>\n",
       "    .dataframe tbody tr th:only-of-type {\n",
       "        vertical-align: middle;\n",
       "    }\n",
       "\n",
       "    .dataframe tbody tr th {\n",
       "        vertical-align: top;\n",
       "    }\n",
       "\n",
       "    .dataframe thead th {\n",
       "        text-align: right;\n",
       "    }\n",
       "</style>\n",
       "<table border=\"1\" class=\"dataframe\">\n",
       "  <thead>\n",
       "    <tr style=\"text-align: right;\">\n",
       "      <th></th>\n",
       "      <th>textID</th>\n",
       "      <th>text</th>\n",
       "      <th>selected_text</th>\n",
       "      <th>sentiment</th>\n",
       "    </tr>\n",
       "  </thead>\n",
       "  <tbody>\n",
       "    <tr>\n",
       "      <th>0</th>\n",
       "      <td>cb774db0d1</td>\n",
       "      <td>I`d have responded, if I were going</td>\n",
       "      <td>I`d have responded, if I were going</td>\n",
       "      <td>neutral</td>\n",
       "    </tr>\n",
       "    <tr>\n",
       "      <th>1</th>\n",
       "      <td>549e992a42</td>\n",
       "      <td>Sooo SAD I will miss you here in San Diego!!!</td>\n",
       "      <td>Sooo SAD</td>\n",
       "      <td>negative</td>\n",
       "    </tr>\n",
       "    <tr>\n",
       "      <th>2</th>\n",
       "      <td>088c60f138</td>\n",
       "      <td>my boss is bullying me...</td>\n",
       "      <td>bullying me</td>\n",
       "      <td>negative</td>\n",
       "    </tr>\n",
       "    <tr>\n",
       "      <th>3</th>\n",
       "      <td>9642c003ef</td>\n",
       "      <td>what interview! leave me alone</td>\n",
       "      <td>leave me alone</td>\n",
       "      <td>negative</td>\n",
       "    </tr>\n",
       "    <tr>\n",
       "      <th>4</th>\n",
       "      <td>358bd9e861</td>\n",
       "      <td>Sons of ****, why couldn`t they put them on t...</td>\n",
       "      <td>Sons of ****,</td>\n",
       "      <td>negative</td>\n",
       "    </tr>\n",
       "  </tbody>\n",
       "</table>\n",
       "</div>"
      ],
      "text/plain": [
       "       textID                                               text  \\\n",
       "0  cb774db0d1                I`d have responded, if I were going   \n",
       "1  549e992a42      Sooo SAD I will miss you here in San Diego!!!   \n",
       "2  088c60f138                          my boss is bullying me...   \n",
       "3  9642c003ef                     what interview! leave me alone   \n",
       "4  358bd9e861   Sons of ****, why couldn`t they put them on t...   \n",
       "\n",
       "                         selected_text sentiment  \n",
       "0  I`d have responded, if I were going   neutral  \n",
       "1                             Sooo SAD  negative  \n",
       "2                          bullying me  negative  \n",
       "3                       leave me alone  negative  \n",
       "4                        Sons of ****,  negative  "
      ]
     },
     "metadata": {},
     "output_type": "display_data"
    }
   ],
   "source": [
    "trn_df = pd.read_csv('../inputs/origin/train.csv')\n",
    "display(trn_df.shape, trn_df.head())"
   ]
  },
  {
   "cell_type": "code",
   "execution_count": 27,
   "metadata": {},
   "outputs": [
    {
     "data": {
      "text/plain": [
       "(27480, 4)"
      ]
     },
     "execution_count": 27,
     "metadata": {},
     "output_type": "execute_result"
    }
   ],
   "source": [
    "trn_df = trn_df[trn_df.selected_text.notnull()]\n",
    "trn_df.shape"
   ]
  },
  {
   "cell_type": "code",
   "execution_count": 28,
   "metadata": {},
   "outputs": [],
   "source": [
    "ckpts = []\n",
    "for fckpt in glob('../checkpoints/e060/best/*'):\n",
    "    ckpts.append(torch.load(fckpt))"
   ]
  },
  {
   "cell_type": "code",
   "execution_count": 29,
   "metadata": {},
   "outputs": [
    {
     "data": {
      "text/plain": [
       "dict_keys(['fold_num', 'current_epoch', 'model_state_dict', 'optimizer_state_dict', 'scheduler_state_dict', 'val_textIDs', 'val_input_ids', 'val_preds', 'val_labels', 'histories'])"
      ]
     },
     "execution_count": 29,
     "metadata": {},
     "output_type": "execute_result"
    }
   ],
   "source": [
    "ckpts[0].keys()"
   ]
  },
  {
   "cell_type": "code",
   "execution_count": null,
   "metadata": {},
   "outputs": [],
   "source": []
  },
  {
   "cell_type": "code",
   "execution_count": 30,
   "metadata": {},
   "outputs": [],
   "source": [
    "def _get_predicted_texts(input_ids, y_preds_head, y_preds_tail, tokenizer):\n",
    "    predicted_texts = []\n",
    "    for input_id, y_pred_head, y_pred_tail \\\n",
    "            in zip(input_ids, y_preds_head, y_preds_tail):\n",
    "        pred_label_head = y_pred_head.argmax()\n",
    "        pred_label_tail = y_pred_tail.argmax()\n",
    "        predicted_text = tokenizer.decode(\n",
    "            input_id[pred_label_head:pred_label_tail])\n",
    "        predicted_texts.append(predicted_text)\n",
    "\n",
    "    return predicted_texts"
   ]
  },
  {
   "cell_type": "code",
   "execution_count": 31,
   "metadata": {},
   "outputs": [],
   "source": [
    "def _get_selected_texts(input_ids, labels_head, labels_tail, tokenizer):\n",
    "    predicted_texts = []\n",
    "    for input_id, pred_label_head, pred_label_tail \\\n",
    "            in zip(input_ids, labels_head, labels_tail):\n",
    "        predicted_text = tokenizer.decode(\n",
    "            input_id[pred_label_head:pred_label_tail])\n",
    "        predicted_texts.append(predicted_text)\n",
    "\n",
    "    return predicted_texts"
   ]
  },
  {
   "cell_type": "code",
   "execution_count": 32,
   "metadata": {},
   "outputs": [],
   "source": [
    "import sys\n",
    "sys.path.append('../')\n",
    "from tools.tokenizers import myRobertaByteLevelBPETokenizer\n",
    "\n",
    "tokenizer = myRobertaByteLevelBPETokenizer(   \n",
    "    vocab_file='../inputs/datasets/roberta/tokenizer/vocab.json',\n",
    "    merges_file='../inputs/datasets/roberta/tokenizer/merges.txt',\n",
    "    lowercase=True,\n",
    "    add_prefix_space=True)\n",
    "\n",
    "# tokenizer = BertTokenizer.from_pretrained('bert-base-uncased')"
   ]
  },
  {
   "cell_type": "code",
   "execution_count": 33,
   "metadata": {
    "scrolled": true
   },
   "outputs": [
    {
     "data": {
      "text/html": [
       "<div>\n",
       "<style scoped>\n",
       "    .dataframe tbody tr th:only-of-type {\n",
       "        vertical-align: middle;\n",
       "    }\n",
       "\n",
       "    .dataframe tbody tr th {\n",
       "        vertical-align: top;\n",
       "    }\n",
       "\n",
       "    .dataframe thead th {\n",
       "        text-align: right;\n",
       "    }\n",
       "</style>\n",
       "<table border=\"1\" class=\"dataframe\">\n",
       "  <thead>\n",
       "    <tr style=\"text-align: right;\">\n",
       "      <th></th>\n",
       "      <th>textID</th>\n",
       "      <th>text</th>\n",
       "      <th>selected_text</th>\n",
       "      <th>sentiment</th>\n",
       "      <th>predicted_texts</th>\n",
       "    </tr>\n",
       "  </thead>\n",
       "  <tbody>\n",
       "    <tr>\n",
       "      <th>0</th>\n",
       "      <td>cb774db0d1</td>\n",
       "      <td>I`d have responded, if I were going</td>\n",
       "      <td>I`d have responded, if I were going</td>\n",
       "      <td>neutral</td>\n",
       "      <td>i`d have responded, if i were going</td>\n",
       "    </tr>\n",
       "    <tr>\n",
       "      <th>1</th>\n",
       "      <td>549e992a42</td>\n",
       "      <td>Sooo SAD I will miss you here in San Diego!!!</td>\n",
       "      <td>Sooo SAD</td>\n",
       "      <td>negative</td>\n",
       "      <td>sad</td>\n",
       "    </tr>\n",
       "    <tr>\n",
       "      <th>2</th>\n",
       "      <td>088c60f138</td>\n",
       "      <td>my boss is bullying me...</td>\n",
       "      <td>bullying me</td>\n",
       "      <td>negative</td>\n",
       "      <td>bullying me...</td>\n",
       "    </tr>\n",
       "    <tr>\n",
       "      <th>3</th>\n",
       "      <td>9642c003ef</td>\n",
       "      <td>what interview! leave me alone</td>\n",
       "      <td>leave me alone</td>\n",
       "      <td>negative</td>\n",
       "      <td>what interview! leave me alone</td>\n",
       "    </tr>\n",
       "    <tr>\n",
       "      <th>4</th>\n",
       "      <td>358bd9e861</td>\n",
       "      <td>Sons of ****, why couldn`t they put them on t...</td>\n",
       "      <td>Sons of ****,</td>\n",
       "      <td>negative</td>\n",
       "      <td>sons of ****,</td>\n",
       "    </tr>\n",
       "    <tr>\n",
       "      <th>...</th>\n",
       "      <td>...</td>\n",
       "      <td>...</td>\n",
       "      <td>...</td>\n",
       "      <td>...</td>\n",
       "      <td>...</td>\n",
       "    </tr>\n",
       "    <tr>\n",
       "      <th>27475</th>\n",
       "      <td>4eac33d1c0</td>\n",
       "      <td>wish we could come see u on Denver  husband l...</td>\n",
       "      <td>d lost</td>\n",
       "      <td>negative</td>\n",
       "      <td>lost</td>\n",
       "    </tr>\n",
       "    <tr>\n",
       "      <th>27476</th>\n",
       "      <td>4f4c4fc327</td>\n",
       "      <td>I`ve wondered about rake to.  The client has ...</td>\n",
       "      <td>, don`t force</td>\n",
       "      <td>negative</td>\n",
       "      <td>i`ve wondered</td>\n",
       "    </tr>\n",
       "    <tr>\n",
       "      <th>27477</th>\n",
       "      <td>f67aae2310</td>\n",
       "      <td>Yay good for both of you. Enjoy the break - y...</td>\n",
       "      <td>Yay good for both of you.</td>\n",
       "      <td>positive</td>\n",
       "      <td>yay good</td>\n",
       "    </tr>\n",
       "    <tr>\n",
       "      <th>27478</th>\n",
       "      <td>ed167662a5</td>\n",
       "      <td>But it was worth it  ****.</td>\n",
       "      <td>But it was worth it  ****.</td>\n",
       "      <td>positive</td>\n",
       "      <td>but it was worth it ****.</td>\n",
       "    </tr>\n",
       "    <tr>\n",
       "      <th>27479</th>\n",
       "      <td>6f7127d9d7</td>\n",
       "      <td>All this flirting going on - The ATG smiles...</td>\n",
       "      <td>All this flirting going on - The ATG smiles. Y...</td>\n",
       "      <td>neutral</td>\n",
       "      <td>all this flirting going on - the atg smiles. ...</td>\n",
       "    </tr>\n",
       "  </tbody>\n",
       "</table>\n",
       "<p>27480 rows × 5 columns</p>\n",
       "</div>"
      ],
      "text/plain": [
       "           textID                                               text  \\\n",
       "0      cb774db0d1                I`d have responded, if I were going   \n",
       "1      549e992a42      Sooo SAD I will miss you here in San Diego!!!   \n",
       "2      088c60f138                          my boss is bullying me...   \n",
       "3      9642c003ef                     what interview! leave me alone   \n",
       "4      358bd9e861   Sons of ****, why couldn`t they put them on t...   \n",
       "...           ...                                                ...   \n",
       "27475  4eac33d1c0   wish we could come see u on Denver  husband l...   \n",
       "27476  4f4c4fc327   I`ve wondered about rake to.  The client has ...   \n",
       "27477  f67aae2310   Yay good for both of you. Enjoy the break - y...   \n",
       "27478  ed167662a5                         But it was worth it  ****.   \n",
       "27479  6f7127d9d7     All this flirting going on - The ATG smiles...   \n",
       "\n",
       "                                           selected_text sentiment  \\\n",
       "0                    I`d have responded, if I were going   neutral   \n",
       "1                                               Sooo SAD  negative   \n",
       "2                                            bullying me  negative   \n",
       "3                                         leave me alone  negative   \n",
       "4                                          Sons of ****,  negative   \n",
       "...                                                  ...       ...   \n",
       "27475                                             d lost  negative   \n",
       "27476                                      , don`t force  negative   \n",
       "27477                          Yay good for both of you.  positive   \n",
       "27478                         But it was worth it  ****.  positive   \n",
       "27479  All this flirting going on - The ATG smiles. Y...   neutral   \n",
       "\n",
       "                                         predicted_texts  \n",
       "0                    i`d have responded, if i were going  \n",
       "1                                                    sad  \n",
       "2                                         bullying me...  \n",
       "3                         what interview! leave me alone  \n",
       "4                                          sons of ****,  \n",
       "...                                                  ...  \n",
       "27475                                               lost  \n",
       "27476                                      i`ve wondered  \n",
       "27477                                           yay good  \n",
       "27478                          but it was worth it ****.  \n",
       "27479   all this flirting going on - the atg smiles. ...  \n",
       "\n",
       "[27480 rows x 5 columns]"
      ]
     },
     "execution_count": 33,
     "metadata": {},
     "output_type": "execute_result"
    }
   ],
   "source": [
    "for ckpt in ckpts:\n",
    "    trn_df = trn_df.set_index('textID')\n",
    "    predicted_texts = _get_predicted_texts(ckpt['val_input_ids'], ckpt['val_preds'][0],  ckpt['val_preds'][1], tokenizer)\n",
    "    trn_df.loc[ckpt['val_textIDs'], 'predicted_texts'] = predicted_texts\n",
    "    trn_df = trn_df.reset_index()\n",
    "trn_df"
   ]
  },
  {
   "cell_type": "code",
   "execution_count": 34,
   "metadata": {
    "scrolled": true
   },
   "outputs": [
    {
     "data": {
      "text/html": [
       "<div>\n",
       "<style scoped>\n",
       "    .dataframe tbody tr th:only-of-type {\n",
       "        vertical-align: middle;\n",
       "    }\n",
       "\n",
       "    .dataframe tbody tr th {\n",
       "        vertical-align: top;\n",
       "    }\n",
       "\n",
       "    .dataframe thead th {\n",
       "        text-align: right;\n",
       "    }\n",
       "</style>\n",
       "<table border=\"1\" class=\"dataframe\">\n",
       "  <thead>\n",
       "    <tr style=\"text-align: right;\">\n",
       "      <th></th>\n",
       "      <th>textID</th>\n",
       "      <th>text</th>\n",
       "      <th>selected_text</th>\n",
       "      <th>sentiment</th>\n",
       "      <th>predicted_texts</th>\n",
       "      <th>manual_selected_text</th>\n",
       "    </tr>\n",
       "  </thead>\n",
       "  <tbody>\n",
       "    <tr>\n",
       "      <th>0</th>\n",
       "      <td>cb774db0d1</td>\n",
       "      <td>I`d have responded, if I were going</td>\n",
       "      <td>I`d have responded, if I were going</td>\n",
       "      <td>neutral</td>\n",
       "      <td>i`d have responded, if i were going</td>\n",
       "      <td>i`d have responded, if i were going</td>\n",
       "    </tr>\n",
       "    <tr>\n",
       "      <th>1</th>\n",
       "      <td>549e992a42</td>\n",
       "      <td>Sooo SAD I will miss you here in San Diego!!!</td>\n",
       "      <td>Sooo SAD</td>\n",
       "      <td>negative</td>\n",
       "      <td>sad</td>\n",
       "      <td>sooo sad</td>\n",
       "    </tr>\n",
       "    <tr>\n",
       "      <th>2</th>\n",
       "      <td>088c60f138</td>\n",
       "      <td>my boss is bullying me...</td>\n",
       "      <td>bullying me</td>\n",
       "      <td>negative</td>\n",
       "      <td>bullying me...</td>\n",
       "      <td>bullying me</td>\n",
       "    </tr>\n",
       "    <tr>\n",
       "      <th>3</th>\n",
       "      <td>9642c003ef</td>\n",
       "      <td>what interview! leave me alone</td>\n",
       "      <td>leave me alone</td>\n",
       "      <td>negative</td>\n",
       "      <td>what interview! leave me alone</td>\n",
       "      <td>leave me alone</td>\n",
       "    </tr>\n",
       "    <tr>\n",
       "      <th>4</th>\n",
       "      <td>358bd9e861</td>\n",
       "      <td>Sons of ****, why couldn`t they put them on t...</td>\n",
       "      <td>Sons of ****,</td>\n",
       "      <td>negative</td>\n",
       "      <td>sons of ****,</td>\n",
       "      <td>sons of ****,</td>\n",
       "    </tr>\n",
       "    <tr>\n",
       "      <th>...</th>\n",
       "      <td>...</td>\n",
       "      <td>...</td>\n",
       "      <td>...</td>\n",
       "      <td>...</td>\n",
       "      <td>...</td>\n",
       "      <td>...</td>\n",
       "    </tr>\n",
       "    <tr>\n",
       "      <th>27475</th>\n",
       "      <td>4eac33d1c0</td>\n",
       "      <td>wish we could come see u on Denver  husband l...</td>\n",
       "      <td>d lost</td>\n",
       "      <td>negative</td>\n",
       "      <td>lost</td>\n",
       "      <td>wish we could come see u on denver husband lo...</td>\n",
       "    </tr>\n",
       "    <tr>\n",
       "      <th>27476</th>\n",
       "      <td>4f4c4fc327</td>\n",
       "      <td>I`ve wondered about rake to.  The client has ...</td>\n",
       "      <td>, don`t force</td>\n",
       "      <td>negative</td>\n",
       "      <td>i`ve wondered</td>\n",
       "      <td>i`ve wondered about rake to. the client has m...</td>\n",
       "    </tr>\n",
       "    <tr>\n",
       "      <th>27477</th>\n",
       "      <td>f67aae2310</td>\n",
       "      <td>Yay good for both of you. Enjoy the break - y...</td>\n",
       "      <td>Yay good for both of you.</td>\n",
       "      <td>positive</td>\n",
       "      <td>yay good</td>\n",
       "      <td>yay good for both of you.</td>\n",
       "    </tr>\n",
       "    <tr>\n",
       "      <th>27478</th>\n",
       "      <td>ed167662a5</td>\n",
       "      <td>But it was worth it  ****.</td>\n",
       "      <td>But it was worth it  ****.</td>\n",
       "      <td>positive</td>\n",
       "      <td>but it was worth it ****.</td>\n",
       "      <td>but it was worth it ****.</td>\n",
       "    </tr>\n",
       "    <tr>\n",
       "      <th>27479</th>\n",
       "      <td>6f7127d9d7</td>\n",
       "      <td>All this flirting going on - The ATG smiles...</td>\n",
       "      <td>All this flirting going on - The ATG smiles. Y...</td>\n",
       "      <td>neutral</td>\n",
       "      <td>all this flirting going on - the atg smiles. ...</td>\n",
       "      <td>all this flirting going on - the atg smiles. ...</td>\n",
       "    </tr>\n",
       "  </tbody>\n",
       "</table>\n",
       "<p>27480 rows × 6 columns</p>\n",
       "</div>"
      ],
      "text/plain": [
       "           textID                                               text  \\\n",
       "0      cb774db0d1                I`d have responded, if I were going   \n",
       "1      549e992a42      Sooo SAD I will miss you here in San Diego!!!   \n",
       "2      088c60f138                          my boss is bullying me...   \n",
       "3      9642c003ef                     what interview! leave me alone   \n",
       "4      358bd9e861   Sons of ****, why couldn`t they put them on t...   \n",
       "...           ...                                                ...   \n",
       "27475  4eac33d1c0   wish we could come see u on Denver  husband l...   \n",
       "27476  4f4c4fc327   I`ve wondered about rake to.  The client has ...   \n",
       "27477  f67aae2310   Yay good for both of you. Enjoy the break - y...   \n",
       "27478  ed167662a5                         But it was worth it  ****.   \n",
       "27479  6f7127d9d7     All this flirting going on - The ATG smiles...   \n",
       "\n",
       "                                           selected_text sentiment  \\\n",
       "0                    I`d have responded, if I were going   neutral   \n",
       "1                                               Sooo SAD  negative   \n",
       "2                                            bullying me  negative   \n",
       "3                                         leave me alone  negative   \n",
       "4                                          Sons of ****,  negative   \n",
       "...                                                  ...       ...   \n",
       "27475                                             d lost  negative   \n",
       "27476                                      , don`t force  negative   \n",
       "27477                          Yay good for both of you.  positive   \n",
       "27478                         But it was worth it  ****.  positive   \n",
       "27479  All this flirting going on - The ATG smiles. Y...   neutral   \n",
       "\n",
       "                                         predicted_texts  \\\n",
       "0                    i`d have responded, if i were going   \n",
       "1                                                    sad   \n",
       "2                                         bullying me...   \n",
       "3                         what interview! leave me alone   \n",
       "4                                          sons of ****,   \n",
       "...                                                  ...   \n",
       "27475                                               lost   \n",
       "27476                                      i`ve wondered   \n",
       "27477                                           yay good   \n",
       "27478                          but it was worth it ****.   \n",
       "27479   all this flirting going on - the atg smiles. ...   \n",
       "\n",
       "                                    manual_selected_text  \n",
       "0                    i`d have responded, if i were going  \n",
       "1                                               sooo sad  \n",
       "2                                            bullying me  \n",
       "3                                         leave me alone  \n",
       "4                                          sons of ****,  \n",
       "...                                                  ...  \n",
       "27475   wish we could come see u on denver husband lo...  \n",
       "27476   i`ve wondered about rake to. the client has m...  \n",
       "27477                          yay good for both of you.  \n",
       "27478                          but it was worth it ****.  \n",
       "27479   all this flirting going on - the atg smiles. ...  \n",
       "\n",
       "[27480 rows x 6 columns]"
      ]
     },
     "execution_count": 34,
     "metadata": {},
     "output_type": "execute_result"
    }
   ],
   "source": [
    "for ckpt in ckpts:\n",
    "    trn_df = trn_df.set_index('textID')\n",
    "    manual_selected_texts = _get_selected_texts(ckpt['val_input_ids'], ckpt['val_labels'][0],  ckpt['val_labels'][1], tokenizer)\n",
    "    trn_df.loc[ckpt['val_textIDs'], 'manual_selected_text'] = manual_selected_texts\n",
    "    trn_df = trn_df.reset_index()\n",
    "trn_df"
   ]
  },
  {
   "cell_type": "code",
   "execution_count": 35,
   "metadata": {
    "scrolled": true
   },
   "outputs": [
    {
     "data": {
      "text/html": [
       "<div>\n",
       "<style scoped>\n",
       "    .dataframe tbody tr th:only-of-type {\n",
       "        vertical-align: middle;\n",
       "    }\n",
       "\n",
       "    .dataframe tbody tr th {\n",
       "        vertical-align: top;\n",
       "    }\n",
       "\n",
       "    .dataframe thead th {\n",
       "        text-align: right;\n",
       "    }\n",
       "</style>\n",
       "<table border=\"1\" class=\"dataframe\">\n",
       "  <thead>\n",
       "    <tr style=\"text-align: right;\">\n",
       "      <th></th>\n",
       "      <th>textID</th>\n",
       "      <th>text</th>\n",
       "      <th>selected_text</th>\n",
       "      <th>sentiment</th>\n",
       "      <th>predicted_texts</th>\n",
       "      <th>manual_selected_text</th>\n",
       "    </tr>\n",
       "  </thead>\n",
       "  <tbody>\n",
       "    <tr>\n",
       "      <th>19561</th>\n",
       "      <td>6cd1ba8680</td>\n",
       "      <td>Thats charmingly funny</td>\n",
       "      <td>ats charmingly fun</td>\n",
       "      <td>positive</td>\n",
       "      <td>thats charmingly funny</td>\n",
       "      <td>thats charmingly funny</td>\n",
       "    </tr>\n",
       "  </tbody>\n",
       "</table>\n",
       "</div>"
      ],
      "text/plain": [
       "           textID                      text       selected_text sentiment  \\\n",
       "19561  6cd1ba8680    Thats charmingly funny  ats charmingly fun  positive   \n",
       "\n",
       "               predicted_texts     manual_selected_text  \n",
       "19561   thats charmingly funny   thats charmingly funny  "
      ]
     },
     "execution_count": 35,
     "metadata": {},
     "output_type": "execute_result"
    }
   ],
   "source": [
    "trn_df.query('textID == \"6cd1ba8680\"')"
   ]
  },
  {
   "cell_type": "code",
   "execution_count": 36,
   "metadata": {
    "scrolled": true
   },
   "outputs": [
    {
     "data": {
      "text/html": [
       "<div>\n",
       "<style scoped>\n",
       "    .dataframe tbody tr th:only-of-type {\n",
       "        vertical-align: middle;\n",
       "    }\n",
       "\n",
       "    .dataframe tbody tr th {\n",
       "        vertical-align: top;\n",
       "    }\n",
       "\n",
       "    .dataframe thead th {\n",
       "        text-align: right;\n",
       "    }\n",
       "</style>\n",
       "<table border=\"1\" class=\"dataframe\">\n",
       "  <thead>\n",
       "    <tr style=\"text-align: right;\">\n",
       "      <th></th>\n",
       "      <th>textID</th>\n",
       "      <th>text</th>\n",
       "      <th>selected_text</th>\n",
       "      <th>sentiment</th>\n",
       "      <th>predicted_texts</th>\n",
       "      <th>manual_selected_text</th>\n",
       "    </tr>\n",
       "  </thead>\n",
       "  <tbody>\n",
       "  </tbody>\n",
       "</table>\n",
       "</div>"
      ],
      "text/plain": [
       "Empty DataFrame\n",
       "Columns: [textID, text, selected_text, sentiment, predicted_texts, manual_selected_text]\n",
       "Index: []"
      ]
     },
     "execution_count": 36,
     "metadata": {},
     "output_type": "execute_result"
    }
   ],
   "source": [
    "trn_df[trn_df.manual_selected_text.str.contains('</s>')]"
   ]
  },
  {
   "cell_type": "code",
   "execution_count": 37,
   "metadata": {
    "scrolled": true
   },
   "outputs": [
    {
     "data": {
      "text/html": [
       "<div>\n",
       "<style scoped>\n",
       "    .dataframe tbody tr th:only-of-type {\n",
       "        vertical-align: middle;\n",
       "    }\n",
       "\n",
       "    .dataframe tbody tr th {\n",
       "        vertical-align: top;\n",
       "    }\n",
       "\n",
       "    .dataframe thead th {\n",
       "        text-align: right;\n",
       "    }\n",
       "</style>\n",
       "<table border=\"1\" class=\"dataframe\">\n",
       "  <thead>\n",
       "    <tr style=\"text-align: right;\">\n",
       "      <th></th>\n",
       "      <th>textID</th>\n",
       "      <th>text</th>\n",
       "      <th>selected_text</th>\n",
       "      <th>sentiment</th>\n",
       "      <th>predicted_texts</th>\n",
       "      <th>manual_selected_text</th>\n",
       "      <th>selected_text_lower</th>\n",
       "    </tr>\n",
       "  </thead>\n",
       "  <tbody>\n",
       "    <tr>\n",
       "      <th>0</th>\n",
       "      <td>cb774db0d1</td>\n",
       "      <td>I`d have responded, if I were going</td>\n",
       "      <td>I`d have responded, if I were going</td>\n",
       "      <td>neutral</td>\n",
       "      <td>i`d have responded, if i were going</td>\n",
       "      <td>i`d have responded, if i were going</td>\n",
       "      <td>i`d have responded, if i were going</td>\n",
       "    </tr>\n",
       "    <tr>\n",
       "      <th>1</th>\n",
       "      <td>549e992a42</td>\n",
       "      <td>Sooo SAD I will miss you here in San Diego!!!</td>\n",
       "      <td>Sooo SAD</td>\n",
       "      <td>negative</td>\n",
       "      <td>sad</td>\n",
       "      <td>sooo sad</td>\n",
       "      <td>sooo sad</td>\n",
       "    </tr>\n",
       "    <tr>\n",
       "      <th>2</th>\n",
       "      <td>088c60f138</td>\n",
       "      <td>my boss is bullying me...</td>\n",
       "      <td>bullying me</td>\n",
       "      <td>negative</td>\n",
       "      <td>bullying me...</td>\n",
       "      <td>bullying me</td>\n",
       "      <td>bullying me</td>\n",
       "    </tr>\n",
       "    <tr>\n",
       "      <th>3</th>\n",
       "      <td>9642c003ef</td>\n",
       "      <td>what interview! leave me alone</td>\n",
       "      <td>leave me alone</td>\n",
       "      <td>negative</td>\n",
       "      <td>what interview! leave me alone</td>\n",
       "      <td>leave me alone</td>\n",
       "      <td>leave me alone</td>\n",
       "    </tr>\n",
       "    <tr>\n",
       "      <th>4</th>\n",
       "      <td>358bd9e861</td>\n",
       "      <td>Sons of ****, why couldn`t they put them on t...</td>\n",
       "      <td>Sons of ****,</td>\n",
       "      <td>negative</td>\n",
       "      <td>sons of ****,</td>\n",
       "      <td>sons of ****,</td>\n",
       "      <td>sons of ****,</td>\n",
       "    </tr>\n",
       "    <tr>\n",
       "      <th>...</th>\n",
       "      <td>...</td>\n",
       "      <td>...</td>\n",
       "      <td>...</td>\n",
       "      <td>...</td>\n",
       "      <td>...</td>\n",
       "      <td>...</td>\n",
       "      <td>...</td>\n",
       "    </tr>\n",
       "    <tr>\n",
       "      <th>27475</th>\n",
       "      <td>4eac33d1c0</td>\n",
       "      <td>wish we could come see u on Denver  husband l...</td>\n",
       "      <td>d lost</td>\n",
       "      <td>negative</td>\n",
       "      <td>lost</td>\n",
       "      <td>wish we could come see u on denver husband lo...</td>\n",
       "      <td>d lost</td>\n",
       "    </tr>\n",
       "    <tr>\n",
       "      <th>27476</th>\n",
       "      <td>4f4c4fc327</td>\n",
       "      <td>I`ve wondered about rake to.  The client has ...</td>\n",
       "      <td>, don`t force</td>\n",
       "      <td>negative</td>\n",
       "      <td>i`ve wondered</td>\n",
       "      <td>i`ve wondered about rake to. the client has m...</td>\n",
       "      <td>, don`t force</td>\n",
       "    </tr>\n",
       "    <tr>\n",
       "      <th>27477</th>\n",
       "      <td>f67aae2310</td>\n",
       "      <td>Yay good for both of you. Enjoy the break - y...</td>\n",
       "      <td>Yay good for both of you.</td>\n",
       "      <td>positive</td>\n",
       "      <td>yay good</td>\n",
       "      <td>yay good for both of you.</td>\n",
       "      <td>yay good for both of you.</td>\n",
       "    </tr>\n",
       "    <tr>\n",
       "      <th>27478</th>\n",
       "      <td>ed167662a5</td>\n",
       "      <td>But it was worth it  ****.</td>\n",
       "      <td>But it was worth it  ****.</td>\n",
       "      <td>positive</td>\n",
       "      <td>but it was worth it ****.</td>\n",
       "      <td>but it was worth it ****.</td>\n",
       "      <td>but it was worth it ****.</td>\n",
       "    </tr>\n",
       "    <tr>\n",
       "      <th>27479</th>\n",
       "      <td>6f7127d9d7</td>\n",
       "      <td>All this flirting going on - The ATG smiles...</td>\n",
       "      <td>All this flirting going on - The ATG smiles. Y...</td>\n",
       "      <td>neutral</td>\n",
       "      <td>all this flirting going on - the atg smiles. ...</td>\n",
       "      <td>all this flirting going on - the atg smiles. ...</td>\n",
       "      <td>all this flirting going on - the atg smiles. ...</td>\n",
       "    </tr>\n",
       "  </tbody>\n",
       "</table>\n",
       "<p>27480 rows × 7 columns</p>\n",
       "</div>"
      ],
      "text/plain": [
       "           textID                                               text  \\\n",
       "0      cb774db0d1                I`d have responded, if I were going   \n",
       "1      549e992a42      Sooo SAD I will miss you here in San Diego!!!   \n",
       "2      088c60f138                          my boss is bullying me...   \n",
       "3      9642c003ef                     what interview! leave me alone   \n",
       "4      358bd9e861   Sons of ****, why couldn`t they put them on t...   \n",
       "...           ...                                                ...   \n",
       "27475  4eac33d1c0   wish we could come see u on Denver  husband l...   \n",
       "27476  4f4c4fc327   I`ve wondered about rake to.  The client has ...   \n",
       "27477  f67aae2310   Yay good for both of you. Enjoy the break - y...   \n",
       "27478  ed167662a5                         But it was worth it  ****.   \n",
       "27479  6f7127d9d7     All this flirting going on - The ATG smiles...   \n",
       "\n",
       "                                           selected_text sentiment  \\\n",
       "0                    I`d have responded, if I were going   neutral   \n",
       "1                                               Sooo SAD  negative   \n",
       "2                                            bullying me  negative   \n",
       "3                                         leave me alone  negative   \n",
       "4                                          Sons of ****,  negative   \n",
       "...                                                  ...       ...   \n",
       "27475                                             d lost  negative   \n",
       "27476                                      , don`t force  negative   \n",
       "27477                          Yay good for both of you.  positive   \n",
       "27478                         But it was worth it  ****.  positive   \n",
       "27479  All this flirting going on - The ATG smiles. Y...   neutral   \n",
       "\n",
       "                                         predicted_texts  \\\n",
       "0                    i`d have responded, if i were going   \n",
       "1                                                    sad   \n",
       "2                                         bullying me...   \n",
       "3                         what interview! leave me alone   \n",
       "4                                          sons of ****,   \n",
       "...                                                  ...   \n",
       "27475                                               lost   \n",
       "27476                                      i`ve wondered   \n",
       "27477                                           yay good   \n",
       "27478                          but it was worth it ****.   \n",
       "27479   all this flirting going on - the atg smiles. ...   \n",
       "\n",
       "                                    manual_selected_text  \\\n",
       "0                    i`d have responded, if i were going   \n",
       "1                                               sooo sad   \n",
       "2                                            bullying me   \n",
       "3                                         leave me alone   \n",
       "4                                          sons of ****,   \n",
       "...                                                  ...   \n",
       "27475   wish we could come see u on denver husband lo...   \n",
       "27476   i`ve wondered about rake to. the client has m...   \n",
       "27477                          yay good for both of you.   \n",
       "27478                          but it was worth it ****.   \n",
       "27479   all this flirting going on - the atg smiles. ...   \n",
       "\n",
       "                                     selected_text_lower  \n",
       "0                    i`d have responded, if i were going  \n",
       "1                                               sooo sad  \n",
       "2                                            bullying me  \n",
       "3                                         leave me alone  \n",
       "4                                          sons of ****,  \n",
       "...                                                  ...  \n",
       "27475                                             d lost  \n",
       "27476                                      , don`t force  \n",
       "27477                          yay good for both of you.  \n",
       "27478                          but it was worth it ****.  \n",
       "27479   all this flirting going on - the atg smiles. ...  \n",
       "\n",
       "[27480 rows x 7 columns]"
      ]
     },
     "execution_count": 37,
     "metadata": {},
     "output_type": "execute_result"
    }
   ],
   "source": [
    "trn_df['selected_text_lower'] = trn_df['selected_text'].apply(lambda x: \" \" + \" \".join(x.lower().split()))\n",
    "trn_df"
   ]
  },
  {
   "cell_type": "code",
   "execution_count": 38,
   "metadata": {},
   "outputs": [
    {
     "data": {
      "text/plain": [
       "0.9031659388646288"
      ]
     },
     "execution_count": 38,
     "metadata": {},
     "output_type": "execute_result"
    }
   ],
   "source": [
    "(trn_df.selected_text_lower == trn_df.manual_selected_text).mean()"
   ]
  },
  {
   "cell_type": "code",
   "execution_count": 39,
   "metadata": {
    "scrolled": true
   },
   "outputs": [
    {
     "data": {
      "text/html": [
       "<div>\n",
       "<style scoped>\n",
       "    .dataframe tbody tr th:only-of-type {\n",
       "        vertical-align: middle;\n",
       "    }\n",
       "\n",
       "    .dataframe tbody tr th {\n",
       "        vertical-align: top;\n",
       "    }\n",
       "\n",
       "    .dataframe thead th {\n",
       "        text-align: right;\n",
       "    }\n",
       "</style>\n",
       "<table border=\"1\" class=\"dataframe\">\n",
       "  <thead>\n",
       "    <tr style=\"text-align: right;\">\n",
       "      <th></th>\n",
       "      <th>textID</th>\n",
       "      <th>text</th>\n",
       "      <th>selected_text</th>\n",
       "      <th>sentiment</th>\n",
       "      <th>predicted_texts</th>\n",
       "      <th>manual_selected_text</th>\n",
       "      <th>selected_text_lower</th>\n",
       "    </tr>\n",
       "  </thead>\n",
       "  <tbody>\n",
       "    <tr>\n",
       "      <th>18</th>\n",
       "      <td>af3fed7fc3</td>\n",
       "      <td>is back home now      gonna miss every one</td>\n",
       "      <td>onna</td>\n",
       "      <td>negative</td>\n",
       "      <td>miss every one</td>\n",
       "      <td>is back home now gonna miss every one</td>\n",
       "      <td>onna</td>\n",
       "    </tr>\n",
       "    <tr>\n",
       "      <th>27</th>\n",
       "      <td>bdc32ea43c</td>\n",
       "      <td>On the way to Malaysia...no internet access to...</td>\n",
       "      <td>.no internet</td>\n",
       "      <td>negative</td>\n",
       "      <td>on the way to malaysia...no internet access t...</td>\n",
       "      <td>on the way to malaysia...no internet access t...</td>\n",
       "      <td>.no internet</td>\n",
       "    </tr>\n",
       "    <tr>\n",
       "      <th>32</th>\n",
       "      <td>1c31703aef</td>\n",
       "      <td>If it is any consolation I got my BMI tested ...</td>\n",
       "      <td>well so much for being unhappy for about 10 mi...</td>\n",
       "      <td>negative</td>\n",
       "      <td>unhappy for about 10 minutes.</td>\n",
       "      <td>well so much for being unhappy for about 10 m...</td>\n",
       "      <td>well so much for being unhappy for about 10 m...</td>\n",
       "    </tr>\n",
       "    <tr>\n",
       "      <th>39</th>\n",
       "      <td>2863f435bd</td>\n",
       "      <td>A little happy for the wine jeje ok it`sm my f...</td>\n",
       "      <td>A little happy fo</td>\n",
       "      <td>positive</td>\n",
       "      <td>happy for the wine jeje ok it`sm my free time...</td>\n",
       "      <td>a little happy for</td>\n",
       "      <td>a little happy fo</td>\n",
       "    </tr>\n",
       "    <tr>\n",
       "      <th>48</th>\n",
       "      <td>3d9d4b0b55</td>\n",
       "      <td>i donbt like to peel prawns, i also dont like ...</td>\n",
       "      <td>dont like go</td>\n",
       "      <td>negative</td>\n",
       "      <td>i donbt like</td>\n",
       "      <td>dont like going</td>\n",
       "      <td>dont like go</td>\n",
       "    </tr>\n",
       "    <tr>\n",
       "      <th>...</th>\n",
       "      <td>...</td>\n",
       "      <td>...</td>\n",
       "      <td>...</td>\n",
       "      <td>...</td>\n",
       "      <td>...</td>\n",
       "      <td>...</td>\n",
       "      <td>...</td>\n",
       "    </tr>\n",
       "    <tr>\n",
       "      <th>1061</th>\n",
       "      <td>7048b3a9c0</td>\n",
       "      <td>Nako! Umuulan pa naman!  Anyway, enjoy the bi...</td>\n",
       "      <td>, enjoy</td>\n",
       "      <td>positive</td>\n",
       "      <td>enjoy the bike rides!</td>\n",
       "      <td>nako! umuulan pa naman! anyway, enjoy the bik...</td>\n",
       "      <td>, enjoy</td>\n",
       "    </tr>\n",
       "    <tr>\n",
       "      <th>1075</th>\n",
       "      <td>7a3840a246</td>\n",
       "      <td>Don`t follow your dreams; chase them.- Richard...</td>\n",
       "      <td>who I think is very smart</td>\n",
       "      <td>positive</td>\n",
       "      <td>don`t follow your dreams; chase them.- richar...</td>\n",
       "      <td>don`t follow your dreams; chase them.- richar...</td>\n",
       "      <td>who i think is very smart</td>\n",
       "    </tr>\n",
       "    <tr>\n",
       "      <th>1076</th>\n",
       "      <td>3d5c1ed21b</td>\n",
       "      <td>Up is out?  I didn`t get the memo   It looks ...</td>\n",
       "      <td>o   It looks amazi</td>\n",
       "      <td>positive</td>\n",
       "      <td>amazing.</td>\n",
       "      <td>up is out? i didn`t get the memo it looks ama...</td>\n",
       "      <td>o it looks amazi</td>\n",
       "    </tr>\n",
       "    <tr>\n",
       "      <th>1082</th>\n",
       "      <td>e9c337f756</td>\n",
       "      <td>@_TWEE haha thanks to you that`s my new word f...</td>\n",
       "      <td>thanks to you th</td>\n",
       "      <td>positive</td>\n",
       "      <td>thanks</td>\n",
       "      <td>thanks to you that</td>\n",
       "      <td>thanks to you th</td>\n",
       "    </tr>\n",
       "    <tr>\n",
       "      <th>1095</th>\n",
       "      <td>14c67c535b</td>\n",
       "      <td>Depends on what they want for it....I`ve beco...</td>\n",
       "      <td>.I`ve become poor again</td>\n",
       "      <td>negative</td>\n",
       "      <td>poor again</td>\n",
       "      <td>depends on what they want for it....i`ve beco...</td>\n",
       "      <td>.i`ve become poor again</td>\n",
       "    </tr>\n",
       "  </tbody>\n",
       "</table>\n",
       "<p>100 rows × 7 columns</p>\n",
       "</div>"
      ],
      "text/plain": [
       "          textID                                               text  \\\n",
       "18    af3fed7fc3         is back home now      gonna miss every one   \n",
       "27    bdc32ea43c  On the way to Malaysia...no internet access to...   \n",
       "32    1c31703aef   If it is any consolation I got my BMI tested ...   \n",
       "39    2863f435bd  A little happy for the wine jeje ok it`sm my f...   \n",
       "48    3d9d4b0b55  i donbt like to peel prawns, i also dont like ...   \n",
       "...          ...                                                ...   \n",
       "1061  7048b3a9c0   Nako! Umuulan pa naman!  Anyway, enjoy the bi...   \n",
       "1075  7a3840a246  Don`t follow your dreams; chase them.- Richard...   \n",
       "1076  3d5c1ed21b   Up is out?  I didn`t get the memo   It looks ...   \n",
       "1082  e9c337f756  @_TWEE haha thanks to you that`s my new word f...   \n",
       "1095  14c67c535b   Depends on what they want for it....I`ve beco...   \n",
       "\n",
       "                                          selected_text sentiment  \\\n",
       "18                                                 onna  negative   \n",
       "27                                         .no internet  negative   \n",
       "32    well so much for being unhappy for about 10 mi...  negative   \n",
       "39                                    A little happy fo  positive   \n",
       "48                                         dont like go  negative   \n",
       "...                                                 ...       ...   \n",
       "1061                                            , enjoy  positive   \n",
       "1075                          who I think is very smart  positive   \n",
       "1076                                 o   It looks amazi  positive   \n",
       "1082                                   thanks to you th  positive   \n",
       "1095                            .I`ve become poor again  negative   \n",
       "\n",
       "                                        predicted_texts  \\\n",
       "18                                       miss every one   \n",
       "27     on the way to malaysia...no internet access t...   \n",
       "32                        unhappy for about 10 minutes.   \n",
       "39     happy for the wine jeje ok it`sm my free time...   \n",
       "48                                         i donbt like   \n",
       "...                                                 ...   \n",
       "1061                              enjoy the bike rides!   \n",
       "1075   don`t follow your dreams; chase them.- richar...   \n",
       "1076                                           amazing.   \n",
       "1082                                             thanks   \n",
       "1095                                         poor again   \n",
       "\n",
       "                                   manual_selected_text  \\\n",
       "18                is back home now gonna miss every one   \n",
       "27     on the way to malaysia...no internet access t...   \n",
       "32     well so much for being unhappy for about 10 m...   \n",
       "39                                   a little happy for   \n",
       "48                                      dont like going   \n",
       "...                                                 ...   \n",
       "1061   nako! umuulan pa naman! anyway, enjoy the bik...   \n",
       "1075   don`t follow your dreams; chase them.- richar...   \n",
       "1076   up is out? i didn`t get the memo it looks ama...   \n",
       "1082                                 thanks to you that   \n",
       "1095   depends on what they want for it....i`ve beco...   \n",
       "\n",
       "                                    selected_text_lower  \n",
       "18                                                 onna  \n",
       "27                                         .no internet  \n",
       "32     well so much for being unhappy for about 10 m...  \n",
       "39                                    a little happy fo  \n",
       "48                                         dont like go  \n",
       "...                                                 ...  \n",
       "1061                                            , enjoy  \n",
       "1075                          who i think is very smart  \n",
       "1076                                   o it looks amazi  \n",
       "1082                                   thanks to you th  \n",
       "1095                            .i`ve become poor again  \n",
       "\n",
       "[100 rows x 7 columns]"
      ]
     },
     "execution_count": 39,
     "metadata": {},
     "output_type": "execute_result"
    }
   ],
   "source": [
    "trn_df[(trn_df.selected_text_lower != trn_df.manual_selected_text)].query('sentiment != \"neutral\"').head(100)"
   ]
  },
  {
   "cell_type": "code",
   "execution_count": 40,
   "metadata": {
    "scrolled": false
   },
   "outputs": [
    {
     "data": {
      "text/plain": [
       "((27480, 7), (2661, 7))"
      ]
     },
     "execution_count": 40,
     "metadata": {},
     "output_type": "execute_result"
    }
   ],
   "source": [
    "trn_df.shape, trn_df[(trn_df.selected_text_lower != trn_df.manual_selected_text)].shape"
   ]
  },
  {
   "cell_type": "code",
   "execution_count": 41,
   "metadata": {
    "scrolled": true
   },
   "outputs": [
    {
     "data": {
      "text/plain": [
       "0      555\n",
       "1     7163\n",
       "2     2252\n",
       "3     2145\n",
       "4     1971\n",
       "5     1576\n",
       "6     1374\n",
       "7     1147\n",
       "8     1007\n",
       "9      879\n",
       "10     805\n",
       "11     737\n",
       "12     659\n",
       "13     586\n",
       "14     553\n",
       "15     506\n",
       "16     466\n",
       "17     453\n",
       "18     440\n",
       "19     393\n",
       "20     413\n",
       "21     334\n",
       "22     313\n",
       "23     290\n",
       "24     212\n",
       "25     114\n",
       "26      75\n",
       "27      40\n",
       "28      14\n",
       "29       8\n",
       "Name: manual_and_selected_intersection_len, dtype: int64"
      ]
     },
     "execution_count": 41,
     "metadata": {},
     "output_type": "execute_result"
    }
   ],
   "source": [
    "trn_df['manual_and_selected_intersection_len'] = trn_df.apply(lambda row: len(set(row['manual_selected_text'].split()) & set(row['selected_text_lower'].split())), axis=1)\n",
    "trn_df['manual_and_selected_intersection_len'].value_counts().sort_index()"
   ]
  },
  {
   "cell_type": "code",
   "execution_count": 42,
   "metadata": {
    "scrolled": true
   },
   "outputs": [
    {
     "data": {
      "text/plain": [
       "0      168\n",
       "1     5196\n",
       "2     2792\n",
       "3     1845\n",
       "4     1739\n",
       "5     1617\n",
       "6     1315\n",
       "7     1148\n",
       "8     1013\n",
       "9      956\n",
       "10     798\n",
       "11     695\n",
       "12     689\n",
       "13     642\n",
       "14     581\n",
       "15     502\n",
       "16     513\n",
       "17     477\n",
       "18     446\n",
       "19     452\n",
       "20     383\n",
       "21     358\n",
       "22     375\n",
       "23     353\n",
       "24     366\n",
       "25     319\n",
       "26     307\n",
       "27     280\n",
       "28     238\n",
       "29     239\n",
       "30     163\n",
       "31     130\n",
       "32     134\n",
       "33      89\n",
       "34      54\n",
       "35      29\n",
       "36      26\n",
       "37      15\n",
       "38      14\n",
       "39       8\n",
       "40       9\n",
       "41       4\n",
       "42       3\n",
       "Name: manual_and_selected_tokenized_intersection_len, dtype: int64"
      ]
     },
     "execution_count": 42,
     "metadata": {},
     "output_type": "execute_result"
    }
   ],
   "source": [
    "trn_df['manual_and_selected_tokenized_intersection_len'] = trn_df.apply(lambda row: len(set(tokenizer.encode(' '.join(row['manual_selected_text'].split()), add_special_tokens=False).ids) & set(tokenizer.encode(' '.join(row['selected_text_lower'].split()), add_special_tokens=False).ids)), axis=1)\n",
    "trn_df['manual_and_selected_tokenized_intersection_len'].value_counts().sort_index()"
   ]
  },
  {
   "cell_type": "code",
   "execution_count": 43,
   "metadata": {
    "scrolled": true
   },
   "outputs": [
    {
     "data": {
      "text/html": [
       "<div>\n",
       "<style scoped>\n",
       "    .dataframe tbody tr th:only-of-type {\n",
       "        vertical-align: middle;\n",
       "    }\n",
       "\n",
       "    .dataframe tbody tr th {\n",
       "        vertical-align: top;\n",
       "    }\n",
       "\n",
       "    .dataframe thead th {\n",
       "        text-align: right;\n",
       "    }\n",
       "</style>\n",
       "<table border=\"1\" class=\"dataframe\">\n",
       "  <thead>\n",
       "    <tr style=\"text-align: right;\">\n",
       "      <th></th>\n",
       "      <th>textID</th>\n",
       "      <th>text</th>\n",
       "      <th>selected_text</th>\n",
       "      <th>sentiment</th>\n",
       "      <th>predicted_texts</th>\n",
       "      <th>manual_selected_text</th>\n",
       "      <th>selected_text_lower</th>\n",
       "      <th>manual_and_selected_intersection_len</th>\n",
       "      <th>manual_and_selected_tokenized_intersection_len</th>\n",
       "    </tr>\n",
       "  </thead>\n",
       "  <tbody>\n",
       "    <tr>\n",
       "      <th>18</th>\n",
       "      <td>af3fed7fc3</td>\n",
       "      <td>is back home now      gonna miss every one</td>\n",
       "      <td>onna</td>\n",
       "      <td>negative</td>\n",
       "      <td>miss every one</td>\n",
       "      <td>is back home now gonna miss every one</td>\n",
       "      <td>onna</td>\n",
       "      <td>0</td>\n",
       "      <td>0</td>\n",
       "    </tr>\n",
       "    <tr>\n",
       "      <th>168</th>\n",
       "      <td>e56eeb4968</td>\n",
       "      <td>Few Bevvies 2day in twn..great on a day off!!</td>\n",
       "      <td>great</td>\n",
       "      <td>positive</td>\n",
       "      <td>great on a day off!!</td>\n",
       "      <td>few bevvies 2day in twn..great on a day off!!</td>\n",
       "      <td>great</td>\n",
       "      <td>0</td>\n",
       "      <td>0</td>\n",
       "    </tr>\n",
       "    <tr>\n",
       "      <th>189</th>\n",
       "      <td>a0a306868a</td>\n",
       "      <td>lost my tooth 2day whilst i was eating gum...oww</td>\n",
       "      <td>oww</td>\n",
       "      <td>negative</td>\n",
       "      <td>lost</td>\n",
       "      <td>lost my tooth 2day whilst i was eating gum...oww</td>\n",
       "      <td>oww</td>\n",
       "      <td>0</td>\n",
       "      <td>0</td>\n",
       "    </tr>\n",
       "    <tr>\n",
       "      <th>309</th>\n",
       "      <td>a54d3c2825</td>\n",
       "      <td>I know   It was worth a shot, though!</td>\n",
       "      <td>as wort</td>\n",
       "      <td>positive</td>\n",
       "      <td>i know it was worth a shot, though!</td>\n",
       "      <td>i know it was worth a shot, though!</td>\n",
       "      <td>as wort</td>\n",
       "      <td>0</td>\n",
       "      <td>0</td>\n",
       "    </tr>\n",
       "    <tr>\n",
       "      <th>348</th>\n",
       "      <td>322b61740c</td>\n",
       "      <td>90 degrees, gross skies, and thunderstorms...p...</td>\n",
       "      <td>perfect ma</td>\n",
       "      <td>positive</td>\n",
       "      <td>gross skies, and thunderstorms...perfect matc...</td>\n",
       "      <td>90 degrees, gross skies, and thunderstorms......</td>\n",
       "      <td>perfect ma</td>\n",
       "      <td>0</td>\n",
       "      <td>0</td>\n",
       "    </tr>\n",
       "    <tr>\n",
       "      <th>...</th>\n",
       "      <td>...</td>\n",
       "      <td>...</td>\n",
       "      <td>...</td>\n",
       "      <td>...</td>\n",
       "      <td>...</td>\n",
       "      <td>...</td>\n",
       "      <td>...</td>\n",
       "      <td>...</td>\n",
       "      <td>...</td>\n",
       "    </tr>\n",
       "    <tr>\n",
       "      <th>27120</th>\n",
       "      <td>a11ddb9e58</td>\n",
       "      <td>The geographY was an exam today!But turned out...</td>\n",
       "      <td>ry nervou</td>\n",
       "      <td>negative</td>\n",
       "      <td>nervous...</td>\n",
       "      <td>the geography was an exam today!but turned ou...</td>\n",
       "      <td>ry nervou</td>\n",
       "      <td>0</td>\n",
       "      <td>0</td>\n",
       "    </tr>\n",
       "    <tr>\n",
       "      <th>27208</th>\n",
       "      <td>30a1e8c2b4</td>\n",
       "      <td>Guys (    ) I know! My ability to read time te...</td>\n",
       "      <td>es faile</td>\n",
       "      <td>negative</td>\n",
       "      <td>failed!</td>\n",
       "      <td>guys ( ) i know! my ability to read time tell...</td>\n",
       "      <td>es faile</td>\n",
       "      <td>0</td>\n",
       "      <td>0</td>\n",
       "    </tr>\n",
       "    <tr>\n",
       "      <th>27375</th>\n",
       "      <td>13fbc75291</td>\n",
       "      <td>Going to church in the morning...happy mommas ...</td>\n",
       "      <td>happy</td>\n",
       "      <td>positive</td>\n",
       "      <td>happy</td>\n",
       "      <td>going to church in the morning...happy mommas...</td>\n",
       "      <td>happy</td>\n",
       "      <td>0</td>\n",
       "      <td>0</td>\n",
       "    </tr>\n",
       "    <tr>\n",
       "      <th>27385</th>\n",
       "      <td>e149ebd3a1</td>\n",
       "      <td>#vwll2009 Would one of the VWLLers want to add...</td>\n",
       "      <td>ch appreciat</td>\n",
       "      <td>positive</td>\n",
       "      <td>appreciate</td>\n",
       "      <td>#vwll2009 would one of the vwllers want to ad...</td>\n",
       "      <td>ch appreciat</td>\n",
       "      <td>0</td>\n",
       "      <td>0</td>\n",
       "    </tr>\n",
       "    <tr>\n",
       "      <th>27400</th>\n",
       "      <td>261e064dd4</td>\n",
       "      <td>OH SILENCE VERONA!  I AM WANTING TO GO   jaja...</td>\n",
       "      <td>ja, enjoyyitverymu</td>\n",
       "      <td>positive</td>\n",
       "      <td>enjoyyitverymuch</td>\n",
       "      <td>?</td>\n",
       "      <td>ja, enjoyyitverymu</td>\n",
       "      <td>0</td>\n",
       "      <td>0</td>\n",
       "    </tr>\n",
       "  </tbody>\n",
       "</table>\n",
       "<p>168 rows × 9 columns</p>\n",
       "</div>"
      ],
      "text/plain": [
       "           textID                                               text  \\\n",
       "18     af3fed7fc3         is back home now      gonna miss every one   \n",
       "168    e56eeb4968      Few Bevvies 2day in twn..great on a day off!!   \n",
       "189    a0a306868a   lost my tooth 2day whilst i was eating gum...oww   \n",
       "309    a54d3c2825              I know   It was worth a shot, though!   \n",
       "348    322b61740c  90 degrees, gross skies, and thunderstorms...p...   \n",
       "...           ...                                                ...   \n",
       "27120  a11ddb9e58  The geographY was an exam today!But turned out...   \n",
       "27208  30a1e8c2b4  Guys (    ) I know! My ability to read time te...   \n",
       "27375  13fbc75291  Going to church in the morning...happy mommas ...   \n",
       "27385  e149ebd3a1  #vwll2009 Would one of the VWLLers want to add...   \n",
       "27400  261e064dd4   OH SILENCE VERONA!  I AM WANTING TO GO   jaja...   \n",
       "\n",
       "            selected_text sentiment  \\\n",
       "18                   onna  negative   \n",
       "168                 great  positive   \n",
       "189                   oww  negative   \n",
       "309               as wort  positive   \n",
       "348            perfect ma  positive   \n",
       "...                   ...       ...   \n",
       "27120           ry nervou  negative   \n",
       "27208            es faile  negative   \n",
       "27375               happy  positive   \n",
       "27385        ch appreciat  positive   \n",
       "27400  ja, enjoyyitverymu  positive   \n",
       "\n",
       "                                         predicted_texts  \\\n",
       "18                                        miss every one   \n",
       "168                                 great on a day off!!   \n",
       "189                                                 lost   \n",
       "309                  i know it was worth a shot, though!   \n",
       "348     gross skies, and thunderstorms...perfect matc...   \n",
       "...                                                  ...   \n",
       "27120                                         nervous...   \n",
       "27208                                            failed!   \n",
       "27375                                              happy   \n",
       "27385                                         appreciate   \n",
       "27400                                   enjoyyitverymuch   \n",
       "\n",
       "                                    manual_selected_text  selected_text_lower  \\\n",
       "18                 is back home now gonna miss every one                 onna   \n",
       "168        few bevvies 2day in twn..great on a day off!!                great   \n",
       "189     lost my tooth 2day whilst i was eating gum...oww                  oww   \n",
       "309                  i know it was worth a shot, though!              as wort   \n",
       "348     90 degrees, gross skies, and thunderstorms......           perfect ma   \n",
       "...                                                  ...                  ...   \n",
       "27120   the geography was an exam today!but turned ou...            ry nervou   \n",
       "27208   guys ( ) i know! my ability to read time tell...             es faile   \n",
       "27375   going to church in the morning...happy mommas...                happy   \n",
       "27385   #vwll2009 would one of the vwllers want to ad...         ch appreciat   \n",
       "27400                                                  ?   ja, enjoyyitverymu   \n",
       "\n",
       "       manual_and_selected_intersection_len  \\\n",
       "18                                        0   \n",
       "168                                       0   \n",
       "189                                       0   \n",
       "309                                       0   \n",
       "348                                       0   \n",
       "...                                     ...   \n",
       "27120                                     0   \n",
       "27208                                     0   \n",
       "27375                                     0   \n",
       "27385                                     0   \n",
       "27400                                     0   \n",
       "\n",
       "       manual_and_selected_tokenized_intersection_len  \n",
       "18                                                  0  \n",
       "168                                                 0  \n",
       "189                                                 0  \n",
       "309                                                 0  \n",
       "348                                                 0  \n",
       "...                                               ...  \n",
       "27120                                               0  \n",
       "27208                                               0  \n",
       "27375                                               0  \n",
       "27385                                               0  \n",
       "27400                                               0  \n",
       "\n",
       "[168 rows x 9 columns]"
      ]
     },
     "execution_count": 43,
     "metadata": {},
     "output_type": "execute_result"
    }
   ],
   "source": [
    "trn_df.query('manual_and_selected_tokenized_intersection_len == 0')"
   ]
  },
  {
   "cell_type": "code",
   "execution_count": 44,
   "metadata": {},
   "outputs": [],
   "source": [
    "trn_df.to_csv('../inputs/nes_info/v2_dataset_trn_df.csv', index=False)"
   ]
  },
  {
   "cell_type": "code",
   "execution_count": null,
   "metadata": {},
   "outputs": [],
   "source": []
  },
  {
   "cell_type": "code",
   "execution_count": 90,
   "metadata": {},
   "outputs": [
    {
     "data": {
      "text/plain": [
       "' (cont) a bastardized version of French? It`s fun, believe me!'"
      ]
     },
     "execution_count": 90,
     "metadata": {},
     "output_type": "execute_result"
    }
   ],
   "source": [
    "trn_df.loc[955]['text']"
   ]
  },
  {
   "cell_type": "code",
   "execution_count": 86,
   "metadata": {},
   "outputs": [
    {
     "data": {
      "text/plain": [
       "' s fun,'"
      ]
     },
     "execution_count": 86,
     "metadata": {},
     "output_type": "execute_result"
    }
   ],
   "source": [
    "trn_df.loc[955]['selected_text_lower']"
   ]
  },
  {
   "cell_type": "code",
   "execution_count": 88,
   "metadata": {},
   "outputs": [
    {
     "data": {
      "text/plain": [
       "'s fun,'"
      ]
     },
     "execution_count": 88,
     "metadata": {},
     "output_type": "execute_result"
    }
   ],
   "source": [
    "trn_df.loc[955]['manual_selected_text']"
   ]
  },
  {
   "cell_type": "code",
   "execution_count": 81,
   "metadata": {},
   "outputs": [
    {
     "data": {
      "text/plain": [
       "['Ġi', 'Ġalso', 'Ġdont', 'Ġlike', 'Ġgoing', 'Ġshopping']"
      ]
     },
     "execution_count": 81,
     "metadata": {},
     "output_type": "execute_result"
    }
   ],
   "source": [
    "tokenizer.encode('i also dont like going shopping').tokens"
   ]
  },
  {
   "cell_type": "code",
   "execution_count": 65,
   "metadata": {},
   "outputs": [
    {
     "data": {
      "text/plain": [
       "textID                                   ed167662a5\n",
       "text                     But it was worth it  ****.\n",
       "selected_text            But it was worth it  ****.\n",
       "sentiment                                  positive\n",
       "predicted_texts           but it was worth it ****.\n",
       "manual_selected_text      but it was worth it ****.\n",
       "selected_text_lower      but it was worth it  ****.\n",
       "Name: 27478, dtype: object"
      ]
     },
     "execution_count": 65,
     "metadata": {},
     "output_type": "execute_result"
    }
   ],
   "source": [
    "trn_df.loc[27478]"
   ]
  },
  {
   "cell_type": "code",
   "execution_count": 66,
   "metadata": {},
   "outputs": [
    {
     "data": {
      "text/plain": [
       "' but it was worth it ****.'"
      ]
     },
     "execution_count": 66,
     "metadata": {},
     "output_type": "execute_result"
    }
   ],
   "source": [
    "trn_df.loc[27478]['manual_selected_text']"
   ]
  },
  {
   "cell_type": "code",
   "execution_count": 68,
   "metadata": {},
   "outputs": [
    {
     "data": {
      "text/plain": [
       "' but it was worth it  ****.'"
      ]
     },
     "execution_count": 68,
     "metadata": {},
     "output_type": "execute_result"
    }
   ],
   "source": [
    "trn_df.loc[27478]['selected_text_lower']"
   ]
  },
  {
   "cell_type": "code",
   "execution_count": 69,
   "metadata": {},
   "outputs": [
    {
     "data": {
      "text/plain": [
       "False"
      ]
     },
     "execution_count": 69,
     "metadata": {},
     "output_type": "execute_result"
    }
   ],
   "source": [
    "trn_df.loc[27478]['manual_selected_text'] == trn_df.loc[27478]['selected_text_lower']"
   ]
  },
  {
   "cell_type": "code",
   "execution_count": 70,
   "metadata": {
    "scrolled": true
   },
   "outputs": [
    {
     "name": "stdout",
     "output_type": "stream",
     "text": [
      "   \n",
      "b b\n",
      "u u\n",
      "t t\n",
      "   \n",
      "i i\n",
      "t t\n",
      "   \n",
      "w w\n",
      "a a\n",
      "s s\n",
      "   \n",
      "w w\n",
      "o o\n",
      "r r\n",
      "t t\n",
      "h h\n",
      "   \n",
      "i i\n",
      "t t\n",
      "   \n",
      "*  \n",
      "* *\n",
      "* *\n",
      "* *\n",
      ". *\n"
     ]
    }
   ],
   "source": [
    "for i, j in zip(trn_df.loc[27478]['manual_selected_text'], trn_df.loc[27478]['selected_text_lower']):\n",
    "    print(i, j)"
   ]
  },
  {
   "cell_type": "code",
   "execution_count": null,
   "metadata": {},
   "outputs": [],
   "source": []
  },
  {
   "cell_type": "code",
   "execution_count": null,
   "metadata": {},
   "outputs": [],
   "source": []
  },
  {
   "cell_type": "markdown",
   "metadata": {},
   "source": [
    "## debug"
   ]
  },
  {
   "cell_type": "code",
   "execution_count": 27,
   "metadata": {
    "scrolled": true
   },
   "outputs": [],
   "source": [
    "row = trn_df.query('textID == \"6cd1ba8680\"').iloc[0]"
   ]
  },
  {
   "cell_type": "code",
   "execution_count": 36,
   "metadata": {},
   "outputs": [],
   "source": [
    "text = \" \" + \" \".join(row['text'].split())\n",
    "text_output = tokenizer.encode_plus(\n",
    "    text=text,\n",
    "    # text_pair=None,\n",
    "    # text_pair=f\"[{row['sentiment']}]\",\n",
    "    text_pair=row['sentiment'],\n",
    "    add_special_tokens=True,\n",
    "    max_length=125,\n",
    "    pad_to_max_length=True,\n",
    "    return_tensor='pt',\n",
    "    return_token_type_ids=False,\n",
    "    return_attention_mask=True,\n",
    "    return_special_tokens_mask=True,\n",
    ")\n",
    "row['input_ids'] = text_output['input_ids']\n",
    "row['attention_mask'] = text_output['attention_mask']\n",
    "row['special_tokens_mask'] = text_output['special_tokens_mask']\n",
    "\n",
    "if 'selected_text' not in row:\n",
    "    row['selected_text'] = ''\n",
    "    row['labels_head'] = -1\n",
    "    row['labels_tail'] = -1\n",
    "#    return row\n",
    "\n",
    "text = \" \" + \" \".join(row['selected_text'].split())\n",
    "selected_text_output = tokenizer.encode_plus(\n",
    "    text=text,\n",
    "    text_pair=None,\n",
    "    add_special_tokens=False,\n",
    "    max_length=125,\n",
    "    pad_to_max_length=False,\n",
    "    return_tensor='pt',\n",
    "    return_token_type_ids=False,\n",
    "    return_attention_mask=False,\n",
    ")\n",
    "\n",
    "# allign labels for segmentation\n",
    "input_ids = text_output['input_ids']\n",
    "sel_input_ids = selected_text_output['input_ids']\n",
    "# 1 start なのは、先頭の token をスルーするため\n",
    "matched_cnt = len([i for i in input_ids[1:1 + len(sel_input_ids)]\n",
    "                   if i in sel_input_ids])\n",
    "best_matched_cnt = matched_cnt\n",
    "best_matched_i = 1\n",
    "# for i in range(0, len(input_ids)):\n",
    "# 1 start なのは、先頭の token をスルーするため\n",
    "for i in range(1, len(input_ids) - len(sel_input_ids)):\n",
    "    head_input_id_i = input_ids[i]\n",
    "    tail_input_id_i = input_ids[i + len(sel_input_ids)]\n",
    "    if head_input_id_i in sel_input_ids:\n",
    "        matched_cnt -= 1\n",
    "    if tail_input_id_i in sel_input_ids:\n",
    "        matched_cnt += 1\n",
    "    if matched_cnt < 0:\n",
    "        raise Exception('invalid logic')\n",
    "\n",
    "    if best_matched_cnt < matched_cnt:\n",
    "        best_matched_cnt = matched_cnt\n",
    "        best_matched_i = i + 1   # 抜いた時の話なので\n",
    "    if best_matched_cnt == len(sel_input_ids):\n",
    "        break\n",
    "\n",
    "row['labels_head'] = best_matched_i\n",
    "row['labels_tail'] = best_matched_i + len(sel_input_ids)"
   ]
  },
  {
   "cell_type": "code",
   "execution_count": 44,
   "metadata": {},
   "outputs": [
    {
     "data": {
      "text/plain": [
       "'  Thats charmingly funny'"
      ]
     },
     "execution_count": 44,
     "metadata": {},
     "output_type": "execute_result"
    }
   ],
   "source": [
    "row['text']"
   ]
  },
  {
   "cell_type": "code",
   "execution_count": 45,
   "metadata": {},
   "outputs": [
    {
     "data": {
      "text/plain": [
       "'ats charmingly fun'"
      ]
     },
     "execution_count": 45,
     "metadata": {},
     "output_type": "execute_result"
    }
   ],
   "source": [
    "row['selected_text']"
   ]
  },
  {
   "cell_type": "code",
   "execution_count": 39,
   "metadata": {},
   "outputs": [
    {
     "data": {
      "text/plain": [
       "[23, 29, 18452, 352, 1531]"
      ]
     },
     "execution_count": 39,
     "metadata": {},
     "output_type": "execute_result"
    }
   ],
   "source": [
    "selected_text_output['input_ids']"
   ]
  },
  {
   "cell_type": "code",
   "execution_count": 40,
   "metadata": {},
   "outputs": [
    {
     "data": {
      "text/plain": [
       "' ats charmingly fun'"
      ]
     },
     "execution_count": 40,
     "metadata": {},
     "output_type": "execute_result"
    }
   ],
   "source": [
    "\" \" + \" \".join(row['selected_text'].split())"
   ]
  },
  {
   "cell_type": "code",
   "execution_count": 42,
   "metadata": {},
   "outputs": [
    {
     "data": {
      "text/plain": [
       "[23, 29, 18452, 352, 1531]"
      ]
     },
     "execution_count": 42,
     "metadata": {},
     "output_type": "execute_result"
    }
   ],
   "source": [
    "tokenizer.encode(\" \" + \" \".join(row['selected_text'].split())).ids"
   ]
  },
  {
   "cell_type": "code",
   "execution_count": 43,
   "metadata": {
    "scrolled": true
   },
   "outputs": [
    {
     "data": {
      "text/plain": [
       "[45365, 18452, 352, 6269]"
      ]
     },
     "execution_count": 43,
     "metadata": {},
     "output_type": "execute_result"
    }
   ],
   "source": [
    "tokenizer.encode(\" \" + \" \".join(row['text'].split())).ids"
   ]
  },
  {
   "cell_type": "code",
   "execution_count": null,
   "metadata": {},
   "outputs": [],
   "source": [
    "tokenizer.decode()"
   ]
  },
  {
   "cell_type": "code",
   "execution_count": null,
   "metadata": {},
   "outputs": [],
   "source": []
  },
  {
   "cell_type": "code",
   "execution_count": null,
   "metadata": {},
   "outputs": [],
   "source": []
  },
  {
   "cell_type": "code",
   "execution_count": null,
   "metadata": {},
   "outputs": [],
   "source": []
  },
  {
   "cell_type": "code",
   "execution_count": null,
   "metadata": {},
   "outputs": [],
   "source": []
  },
  {
   "cell_type": "markdown",
   "metadata": {},
   "source": [
    "## tokenizer 確認"
   ]
  },
  {
   "cell_type": "code",
   "execution_count": 17,
   "metadata": {},
   "outputs": [],
   "source": [
    "import sys\n",
    "sys.path.append('../')\n",
    "from tools.tokenizers import myRobertaByteLevelBPETokenizer\n",
    "\n",
    "my_tokenizer = myRobertaByteLevelBPETokenizer(   \n",
    "    vocab_file='../inputs/datasets/roberta/tokenizer/vocab.json',\n",
    "    merges_file='../inputs/datasets/roberta/tokenizer/merges.txt',\n",
    "    lowercase=True,\n",
    "    add_prefix_space=True)"
   ]
  },
  {
   "cell_type": "code",
   "execution_count": 21,
   "metadata": {},
   "outputs": [
    {
     "data": {
      "text/plain": [
       "' i`d have responded, if i were going'"
      ]
     },
     "execution_count": 21,
     "metadata": {},
     "output_type": "execute_result"
    }
   ],
   "source": [
    "my_tokenizer.decode(ckpt['val_input_ids'][0][1:11])"
   ]
  },
  {
   "cell_type": "code",
   "execution_count": null,
   "metadata": {},
   "outputs": [],
   "source": []
  },
  {
   "cell_type": "code",
   "execution_count": null,
   "metadata": {},
   "outputs": [],
   "source": []
  },
  {
   "cell_type": "code",
   "execution_count": null,
   "metadata": {},
   "outputs": [],
   "source": []
  },
  {
   "cell_type": "code",
   "execution_count": null,
   "metadata": {},
   "outputs": [],
   "source": []
  },
  {
   "cell_type": "code",
   "execution_count": null,
   "metadata": {},
   "outputs": [],
   "source": []
  },
  {
   "cell_type": "code",
   "execution_count": 52,
   "metadata": {},
   "outputs": [],
   "source": [
    "def jaccard(str1, str2):\n",
    "    a = set(str1.lower().split())\n",
    "    b = set(str2.lower().split())\n",
    "    c = a.intersection(b)\n",
    "    return float(len(c)) / (len(a) + len(b) - len(c))"
   ]
  },
  {
   "cell_type": "code",
   "execution_count": 53,
   "metadata": {},
   "outputs": [],
   "source": [
    "temp_jac = 0\n",
    "for i, row in trn_df.iterrows():\n",
    "    temp_jac += jaccard(row['selected_text'], row['predicted_texts'])"
   ]
  },
  {
   "cell_type": "code",
   "execution_count": 54,
   "metadata": {},
   "outputs": [
    {
     "data": {
      "text/plain": [
       "0.44581498228808364"
      ]
     },
     "execution_count": 54,
     "metadata": {},
     "output_type": "execute_result"
    }
   ],
   "source": [
    "temp_jac / len(trn_df)"
   ]
  },
  {
   "cell_type": "code",
   "execution_count": null,
   "metadata": {},
   "outputs": [],
   "source": []
  },
  {
   "cell_type": "markdown",
   "metadata": {},
   "source": [
    "## 改善の必要あり\n",
    " - decode すると違う形式になってしまう\n",
    " - selected_text を encode -> decode して形式が変わるパターンを除去する後処理が必要そう"
   ]
  },
  {
   "cell_type": "code",
   "execution_count": 75,
   "metadata": {},
   "outputs": [
    {
     "data": {
      "text/plain": [
       "textID                                                         cb774db0d1\n",
       "text                                  I`d have responded, if I were going\n",
       "selected_text                         I`d have responded, if I were going\n",
       "sentiment                                                         neutral\n",
       "predicted_texts         i ` d have responded, if i were going [SEP] [PAD]\n",
       "manual_selected_text    i ` d have responded, if i were going [SEP] [PAD]\n",
       "Name: 0, dtype: object"
      ]
     },
     "execution_count": 75,
     "metadata": {},
     "output_type": "execute_result"
    }
   ],
   "source": [
    "trn_df.loc[0]"
   ]
  },
  {
   "cell_type": "code",
   "execution_count": 74,
   "metadata": {},
   "outputs": [
    {
     "data": {
      "text/plain": [
       "0.6666666666666666"
      ]
     },
     "execution_count": 74,
     "metadata": {},
     "output_type": "execute_result"
    }
   ],
   "source": [
    "jaccard(trn_df.loc[0]['selected_text'], trn_df.loc[0]['predicted_texts'][:-12])"
   ]
  },
  {
   "cell_type": "code",
   "execution_count": 72,
   "metadata": {},
   "outputs": [
    {
     "data": {
      "text/plain": [
       "('have responded, if I were going', 'have responded, if i were going')"
      ]
     },
     "execution_count": 72,
     "metadata": {},
     "output_type": "execute_result"
    }
   ],
   "source": [
    "trn_df.loc[0]['selected_text'][4:], trn_df.loc[0]['predicted_texts'][6:-12]"
   ]
  }
 ],
 "metadata": {
  "kernelspec": {
   "display_name": "Python 3",
   "language": "python",
   "name": "python3"
  },
  "language_info": {
   "codemirror_mode": {
    "name": "ipython",
    "version": 3
   },
   "file_extension": ".py",
   "mimetype": "text/x-python",
   "name": "python",
   "nbconvert_exporter": "python",
   "pygments_lexer": "ipython3",
   "version": "3.7.6"
  },
  "toc": {
   "base_numbering": 1,
   "nav_menu": {},
   "number_sections": true,
   "sideBar": true,
   "skip_h1_title": false,
   "title_cell": "Table of Contents",
   "title_sidebar": "Contents",
   "toc_cell": false,
   "toc_position": {},
   "toc_section_display": true,
   "toc_window_display": false
  }
 },
 "nbformat": 4,
 "nbformat_minor": 2
}
