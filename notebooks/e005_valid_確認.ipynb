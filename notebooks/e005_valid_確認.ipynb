{
 "cells": [
  {
   "cell_type": "code",
   "execution_count": 2,
   "metadata": {
    "scrolled": true
   },
   "outputs": [],
   "source": [
    "from tqdm import tqdm_notebook as tqdm\n",
    "\n",
    "import numpy as np\n",
    "import pandas as pd\n",
    "\n",
    "import torch\n",
    "\n",
    "from matplotlib import pyplot as plt\n",
    "import seaborn as sns\n",
    "\n",
    "from transformers import BertTokenizer, BertModel"
   ]
  },
  {
   "cell_type": "code",
   "execution_count": null,
   "metadata": {},
   "outputs": [],
   "source": []
  },
  {
   "cell_type": "markdown",
   "metadata": {},
   "source": [
    "## e005 の valid を確認する"
   ]
  },
  {
   "cell_type": "code",
   "execution_count": 3,
   "metadata": {},
   "outputs": [
    {
     "data": {
      "text/plain": [
       "(27481, 4)"
      ]
     },
     "metadata": {},
     "output_type": "display_data"
    },
    {
     "data": {
      "text/html": [
       "<div>\n",
       "<style scoped>\n",
       "    .dataframe tbody tr th:only-of-type {\n",
       "        vertical-align: middle;\n",
       "    }\n",
       "\n",
       "    .dataframe tbody tr th {\n",
       "        vertical-align: top;\n",
       "    }\n",
       "\n",
       "    .dataframe thead th {\n",
       "        text-align: right;\n",
       "    }\n",
       "</style>\n",
       "<table border=\"1\" class=\"dataframe\">\n",
       "  <thead>\n",
       "    <tr style=\"text-align: right;\">\n",
       "      <th></th>\n",
       "      <th>textID</th>\n",
       "      <th>text</th>\n",
       "      <th>selected_text</th>\n",
       "      <th>sentiment</th>\n",
       "    </tr>\n",
       "  </thead>\n",
       "  <tbody>\n",
       "    <tr>\n",
       "      <th>0</th>\n",
       "      <td>cb774db0d1</td>\n",
       "      <td>I`d have responded, if I were going</td>\n",
       "      <td>I`d have responded, if I were going</td>\n",
       "      <td>neutral</td>\n",
       "    </tr>\n",
       "    <tr>\n",
       "      <th>1</th>\n",
       "      <td>549e992a42</td>\n",
       "      <td>Sooo SAD I will miss you here in San Diego!!!</td>\n",
       "      <td>Sooo SAD</td>\n",
       "      <td>negative</td>\n",
       "    </tr>\n",
       "    <tr>\n",
       "      <th>2</th>\n",
       "      <td>088c60f138</td>\n",
       "      <td>my boss is bullying me...</td>\n",
       "      <td>bullying me</td>\n",
       "      <td>negative</td>\n",
       "    </tr>\n",
       "    <tr>\n",
       "      <th>3</th>\n",
       "      <td>9642c003ef</td>\n",
       "      <td>what interview! leave me alone</td>\n",
       "      <td>leave me alone</td>\n",
       "      <td>negative</td>\n",
       "    </tr>\n",
       "    <tr>\n",
       "      <th>4</th>\n",
       "      <td>358bd9e861</td>\n",
       "      <td>Sons of ****, why couldn`t they put them on t...</td>\n",
       "      <td>Sons of ****,</td>\n",
       "      <td>negative</td>\n",
       "    </tr>\n",
       "  </tbody>\n",
       "</table>\n",
       "</div>"
      ],
      "text/plain": [
       "       textID                                               text  \\\n",
       "0  cb774db0d1                I`d have responded, if I were going   \n",
       "1  549e992a42      Sooo SAD I will miss you here in San Diego!!!   \n",
       "2  088c60f138                          my boss is bullying me...   \n",
       "3  9642c003ef                     what interview! leave me alone   \n",
       "4  358bd9e861   Sons of ****, why couldn`t they put them on t...   \n",
       "\n",
       "                         selected_text sentiment  \n",
       "0  I`d have responded, if I were going   neutral  \n",
       "1                             Sooo SAD  negative  \n",
       "2                          bullying me  negative  \n",
       "3                       leave me alone  negative  \n",
       "4                        Sons of ****,  negative  "
      ]
     },
     "metadata": {},
     "output_type": "display_data"
    }
   ],
   "source": [
    "trn_df = pd.read_csv('../inputs/origin/train.csv')\n",
    "display(trn_df.shape, trn_df.head())"
   ]
  },
  {
   "cell_type": "code",
   "execution_count": 4,
   "metadata": {},
   "outputs": [
    {
     "name": "stdout",
     "output_type": "stream",
     "text": [
      "epoch_0_9.17545_-1.00000_0.51232_checkpoint.pth\r\n",
      "epoch_1_1.62222_-1.00000_0.68830_checkpoint.pth\r\n",
      "epoch_2_1.51474_-1.00000_0.69574_checkpoint.pth\r\n"
     ]
    }
   ],
   "source": [
    "ls ../checkpoints/e005/0/"
   ]
  },
  {
   "cell_type": "code",
   "execution_count": 5,
   "metadata": {},
   "outputs": [],
   "source": [
    "ckpt = torch.load('../checkpoints/e005/0/epoch_2_1.51474_-1.00000_0.69574_checkpoint.pth')"
   ]
  },
  {
   "cell_type": "code",
   "execution_count": 5,
   "metadata": {},
   "outputs": [
    {
     "data": {
      "text/plain": [
       "dict_keys(['fold_num', 'current_epoch', 'model_state_dict', 'optimizer_state_dict', 'scheduler_state_dict', 'val_textIDs', 'val_input_ids', 'val_preds', 'val_labels', 'histories'])"
      ]
     },
     "execution_count": 5,
     "metadata": {},
     "output_type": "execute_result"
    }
   ],
   "source": [
    "ckpt.keys()"
   ]
  },
  {
   "cell_type": "code",
   "execution_count": null,
   "metadata": {},
   "outputs": [],
   "source": []
  },
  {
   "cell_type": "code",
   "execution_count": 6,
   "metadata": {
    "scrolled": true
   },
   "outputs": [
    {
     "data": {
      "text/html": [
       "<div>\n",
       "<style scoped>\n",
       "    .dataframe tbody tr th:only-of-type {\n",
       "        vertical-align: middle;\n",
       "    }\n",
       "\n",
       "    .dataframe tbody tr th {\n",
       "        vertical-align: top;\n",
       "    }\n",
       "\n",
       "    .dataframe thead th {\n",
       "        text-align: right;\n",
       "    }\n",
       "</style>\n",
       "<table border=\"1\" class=\"dataframe\">\n",
       "  <thead>\n",
       "    <tr style=\"text-align: right;\">\n",
       "      <th></th>\n",
       "      <th>textID</th>\n",
       "      <th>text</th>\n",
       "      <th>selected_text</th>\n",
       "      <th>sentiment</th>\n",
       "    </tr>\n",
       "  </thead>\n",
       "  <tbody>\n",
       "    <tr>\n",
       "      <th>0</th>\n",
       "      <td>cb774db0d1</td>\n",
       "      <td>I`d have responded, if I were going</td>\n",
       "      <td>I`d have responded, if I were going</td>\n",
       "      <td>neutral</td>\n",
       "    </tr>\n",
       "    <tr>\n",
       "      <th>3</th>\n",
       "      <td>9642c003ef</td>\n",
       "      <td>what interview! leave me alone</td>\n",
       "      <td>leave me alone</td>\n",
       "      <td>negative</td>\n",
       "    </tr>\n",
       "    <tr>\n",
       "      <th>4</th>\n",
       "      <td>358bd9e861</td>\n",
       "      <td>Sons of ****, why couldn`t they put them on t...</td>\n",
       "      <td>Sons of ****,</td>\n",
       "      <td>negative</td>\n",
       "    </tr>\n",
       "    <tr>\n",
       "      <th>9</th>\n",
       "      <td>fc2cbefa9d</td>\n",
       "      <td>Journey!? Wow... u just became cooler.  hehe....</td>\n",
       "      <td>Wow... u just became cooler.</td>\n",
       "      <td>positive</td>\n",
       "    </tr>\n",
       "    <tr>\n",
       "      <th>11</th>\n",
       "      <td>16fab9f95b</td>\n",
       "      <td>I really really like the song Love Story by Ta...</td>\n",
       "      <td>like</td>\n",
       "      <td>positive</td>\n",
       "    </tr>\n",
       "    <tr>\n",
       "      <th>...</th>\n",
       "      <td>...</td>\n",
       "      <td>...</td>\n",
       "      <td>...</td>\n",
       "      <td>...</td>\n",
       "    </tr>\n",
       "    <tr>\n",
       "      <th>27467</th>\n",
       "      <td>432e6de6c9</td>\n",
       "      <td>morning twit-friends! welcome to my new followers</td>\n",
       "      <td>welcome</td>\n",
       "      <td>positive</td>\n",
       "    </tr>\n",
       "    <tr>\n",
       "      <th>27469</th>\n",
       "      <td>ac92790d8b</td>\n",
       "      <td>94 more days till BH comes back to LA</td>\n",
       "      <td>94 more days till BH comes back to LA</td>\n",
       "      <td>neutral</td>\n",
       "    </tr>\n",
       "    <tr>\n",
       "      <th>27472</th>\n",
       "      <td>8f5adc47ec</td>\n",
       "      <td>http://twitpic.com/663vr - Wanted to visit the...</td>\n",
       "      <td>were too late</td>\n",
       "      <td>negative</td>\n",
       "    </tr>\n",
       "    <tr>\n",
       "      <th>27474</th>\n",
       "      <td>8f14bb2715</td>\n",
       "      <td>So I get up early and I feel good about the da...</td>\n",
       "      <td>I feel good ab</td>\n",
       "      <td>positive</td>\n",
       "    </tr>\n",
       "    <tr>\n",
       "      <th>27476</th>\n",
       "      <td>4eac33d1c0</td>\n",
       "      <td>wish we could come see u on Denver  husband l...</td>\n",
       "      <td>d lost</td>\n",
       "      <td>negative</td>\n",
       "    </tr>\n",
       "  </tbody>\n",
       "</table>\n",
       "<p>5496 rows × 4 columns</p>\n",
       "</div>"
      ],
      "text/plain": [
       "           textID                                               text  \\\n",
       "0      cb774db0d1                I`d have responded, if I were going   \n",
       "3      9642c003ef                     what interview! leave me alone   \n",
       "4      358bd9e861   Sons of ****, why couldn`t they put them on t...   \n",
       "9      fc2cbefa9d   Journey!? Wow... u just became cooler.  hehe....   \n",
       "11     16fab9f95b  I really really like the song Love Story by Ta...   \n",
       "...           ...                                                ...   \n",
       "27467  432e6de6c9  morning twit-friends! welcome to my new followers   \n",
       "27469  ac92790d8b              94 more days till BH comes back to LA   \n",
       "27472  8f5adc47ec  http://twitpic.com/663vr - Wanted to visit the...   \n",
       "27474  8f14bb2715  So I get up early and I feel good about the da...   \n",
       "27476  4eac33d1c0   wish we could come see u on Denver  husband l...   \n",
       "\n",
       "                               selected_text sentiment  \n",
       "0        I`d have responded, if I were going   neutral  \n",
       "3                             leave me alone  negative  \n",
       "4                              Sons of ****,  negative  \n",
       "9               Wow... u just became cooler.  positive  \n",
       "11                                      like  positive  \n",
       "...                                      ...       ...  \n",
       "27467                                welcome  positive  \n",
       "27469  94 more days till BH comes back to LA   neutral  \n",
       "27472                          were too late  negative  \n",
       "27474                         I feel good ab  positive  \n",
       "27476                                 d lost  negative  \n",
       "\n",
       "[5496 rows x 4 columns]"
      ]
     },
     "execution_count": 6,
     "metadata": {},
     "output_type": "execute_result"
    }
   ],
   "source": [
    "trn_df = trn_df.query(f\"textID in {list(ckpt['val_textIDs'])}\")\n",
    "trn_df"
   ]
  },
  {
   "cell_type": "code",
   "execution_count": 7,
   "metadata": {},
   "outputs": [],
   "source": [
    "def _get_predicted_texts(input_ids, y_preds_head, y_preds_tail, tokenizer):\n",
    "    predicted_texts = []\n",
    "    for input_id, y_pred_head, y_pred_tail \\\n",
    "            in zip(input_ids, y_preds_head, y_preds_tail):\n",
    "        pred_label_head = y_pred_head.argmax()\n",
    "        pred_label_tail = y_pred_tail.argmax()\n",
    "        predicted_text = tokenizer.decode(\n",
    "            input_id[pred_label_head:pred_label_tail])\n",
    "        predicted_texts.append(predicted_text)\n",
    "\n",
    "    return predicted_texts"
   ]
  },
  {
   "cell_type": "code",
   "execution_count": 8,
   "metadata": {},
   "outputs": [],
   "source": [
    "def _get_selected_texts(input_ids, labels_head, labels_tail, tokenizer):\n",
    "    predicted_texts = []\n",
    "    for input_id, pred_label_head, pred_label_tail \\\n",
    "            in zip(input_ids, labels_head, labels_tail):\n",
    "        predicted_text = tokenizer.decode(\n",
    "            input_id[pred_label_head:pred_label_tail])\n",
    "        predicted_texts.append(predicted_text)\n",
    "\n",
    "    return predicted_texts"
   ]
  },
  {
   "cell_type": "code",
   "execution_count": 22,
   "metadata": {},
   "outputs": [],
   "source": [
    "import sys\n",
    "sys.path.append('../')\n",
    "from tools.tokenizers import myRobertaByteLevelBPETokenizer\n",
    "\n",
    "tokenizer = myRobertaByteLevelBPETokenizer(   \n",
    "    vocab_file='../inputs/datasets/roberta/tokenizer/vocab.json',\n",
    "    merges_file='../inputs/datasets/roberta/tokenizer/merges.txt',\n",
    "    lowercase=True,\n",
    "    add_prefix_space=True)\n",
    "\n",
    "# tokenizer = BertTokenizer.from_pretrained('bert-base-uncased')"
   ]
  },
  {
   "cell_type": "code",
   "execution_count": 23,
   "metadata": {
    "scrolled": true
   },
   "outputs": [
    {
     "data": {
      "text/html": [
       "<div>\n",
       "<style scoped>\n",
       "    .dataframe tbody tr th:only-of-type {\n",
       "        vertical-align: middle;\n",
       "    }\n",
       "\n",
       "    .dataframe tbody tr th {\n",
       "        vertical-align: top;\n",
       "    }\n",
       "\n",
       "    .dataframe thead th {\n",
       "        text-align: right;\n",
       "    }\n",
       "</style>\n",
       "<table border=\"1\" class=\"dataframe\">\n",
       "  <thead>\n",
       "    <tr style=\"text-align: right;\">\n",
       "      <th></th>\n",
       "      <th>textID</th>\n",
       "      <th>text</th>\n",
       "      <th>selected_text</th>\n",
       "      <th>sentiment</th>\n",
       "      <th>predicted_texts</th>\n",
       "      <th>selected_text_lower</th>\n",
       "      <th>manual_selected_text</th>\n",
       "    </tr>\n",
       "  </thead>\n",
       "  <tbody>\n",
       "    <tr>\n",
       "      <th>0</th>\n",
       "      <td>cb774db0d1</td>\n",
       "      <td>I`d have responded, if I were going</td>\n",
       "      <td>I`d have responded, if I were going</td>\n",
       "      <td>neutral</td>\n",
       "      <td>i`d have responded, if i were going</td>\n",
       "      <td>i`d have responded, if i were going</td>\n",
       "      <td>[unused934] extant [unused412] [unused32] loca...</td>\n",
       "    </tr>\n",
       "    <tr>\n",
       "      <th>3</th>\n",
       "      <td>9642c003ef</td>\n",
       "      <td>what interview! leave me alone</td>\n",
       "      <td>leave me alone</td>\n",
       "      <td>negative</td>\n",
       "      <td>leave me alone</td>\n",
       "      <td>leave me alone</td>\n",
       "      <td>[unused984] [unused157] 耳</td>\n",
       "    </tr>\n",
       "    <tr>\n",
       "      <th>4</th>\n",
       "      <td>358bd9e861</td>\n",
       "      <td>Sons of ****, why couldn`t they put them on t...</td>\n",
       "      <td>Sons of ****,</td>\n",
       "      <td>negative</td>\n",
       "      <td>sons of ****,</td>\n",
       "      <td>sons of ****,</td>\n",
       "      <td>ballet [unused8] [UNK] [unused5]</td>\n",
       "    </tr>\n",
       "    <tr>\n",
       "      <th>9</th>\n",
       "      <td>fc2cbefa9d</td>\n",
       "      <td>Journey!? Wow... u just became cooler.  hehe....</td>\n",
       "      <td>Wow... u just became cooler.</td>\n",
       "      <td>positive</td>\n",
       "      <td>wow... u just became cooler.</td>\n",
       "      <td>wow... u just became cooler.</td>\n",
       "      <td>##orough [unused729] ノ [unused94] w judith [un...</td>\n",
       "    </tr>\n",
       "    <tr>\n",
       "      <th>11</th>\n",
       "      <td>16fab9f95b</td>\n",
       "      <td>I really really like the song Love Story by Ta...</td>\n",
       "      <td>like</td>\n",
       "      <td>positive</td>\n",
       "      <td>i really really like</td>\n",
       "      <td>like</td>\n",
       "      <td>[CLS]</td>\n",
       "    </tr>\n",
       "    <tr>\n",
       "      <th>...</th>\n",
       "      <td>...</td>\n",
       "      <td>...</td>\n",
       "      <td>...</td>\n",
       "      <td>...</td>\n",
       "      <td>...</td>\n",
       "      <td>...</td>\n",
       "      <td>...</td>\n",
       "    </tr>\n",
       "    <tr>\n",
       "      <th>27467</th>\n",
       "      <td>432e6de6c9</td>\n",
       "      <td>morning twit-friends! welcome to my new followers</td>\n",
       "      <td>welcome</td>\n",
       "      <td>positive</td>\n",
       "      <td>welcome</td>\n",
       "      <td>welcome</td>\n",
       "      <td>friends</td>\n",
       "    </tr>\n",
       "    <tr>\n",
       "      <th>27469</th>\n",
       "      <td>ac92790d8b</td>\n",
       "      <td>94 more days till BH comes back to LA</td>\n",
       "      <td>94 more days till BH comes back to LA</td>\n",
       "      <td>neutral</td>\n",
       "      <td>94 more days till bh comes back to la</td>\n",
       "      <td>94 more days till bh comes back to la</td>\n",
       "      <td>burial [unused54] [unused355] clinical [unused...</td>\n",
       "    </tr>\n",
       "    <tr>\n",
       "      <th>27472</th>\n",
       "      <td>8f5adc47ec</td>\n",
       "      <td>http://twitpic.com/663vr - Wanted to visit the...</td>\n",
       "      <td>were too late</td>\n",
       "      <td>negative</td>\n",
       "      <td>too late</td>\n",
       "      <td>were too late</td>\n",
       "      <td>[unused57] [unused345] [unused623]</td>\n",
       "    </tr>\n",
       "    <tr>\n",
       "      <th>27474</th>\n",
       "      <td>8f14bb2715</td>\n",
       "      <td>So I get up early and I feel good about the da...</td>\n",
       "      <td>I feel good ab</td>\n",
       "      <td>positive</td>\n",
       "      <td>good</td>\n",
       "      <td>i feel good ab</td>\n",
       "      <td>[unused934] [unused614] [unused200] [unused58]</td>\n",
       "    </tr>\n",
       "    <tr>\n",
       "      <th>27476</th>\n",
       "      <td>4eac33d1c0</td>\n",
       "      <td>wish we could come see u on Denver  husband l...</td>\n",
       "      <td>d lost</td>\n",
       "      <td>negative</td>\n",
       "      <td>lost his job and can`t afford it</td>\n",
       "      <td>d lost</td>\n",
       "      <td>wall [unused51] [unused110] [unused278] [unuse...</td>\n",
       "    </tr>\n",
       "  </tbody>\n",
       "</table>\n",
       "<p>5496 rows × 7 columns</p>\n",
       "</div>"
      ],
      "text/plain": [
       "           textID                                               text  \\\n",
       "0      cb774db0d1                I`d have responded, if I were going   \n",
       "3      9642c003ef                     what interview! leave me alone   \n",
       "4      358bd9e861   Sons of ****, why couldn`t they put them on t...   \n",
       "9      fc2cbefa9d   Journey!? Wow... u just became cooler.  hehe....   \n",
       "11     16fab9f95b  I really really like the song Love Story by Ta...   \n",
       "...           ...                                                ...   \n",
       "27467  432e6de6c9  morning twit-friends! welcome to my new followers   \n",
       "27469  ac92790d8b              94 more days till BH comes back to LA   \n",
       "27472  8f5adc47ec  http://twitpic.com/663vr - Wanted to visit the...   \n",
       "27474  8f14bb2715  So I get up early and I feel good about the da...   \n",
       "27476  4eac33d1c0   wish we could come see u on Denver  husband l...   \n",
       "\n",
       "                               selected_text sentiment  \\\n",
       "0        I`d have responded, if I were going   neutral   \n",
       "3                             leave me alone  negative   \n",
       "4                              Sons of ****,  negative   \n",
       "9               Wow... u just became cooler.  positive   \n",
       "11                                      like  positive   \n",
       "...                                      ...       ...   \n",
       "27467                                welcome  positive   \n",
       "27469  94 more days till BH comes back to LA   neutral   \n",
       "27472                          were too late  negative   \n",
       "27474                         I feel good ab  positive   \n",
       "27476                                 d lost  negative   \n",
       "\n",
       "                              predicted_texts  \\\n",
       "0         i`d have responded, if i were going   \n",
       "3                              leave me alone   \n",
       "4                               sons of ****,   \n",
       "9                wow... u just became cooler.   \n",
       "11                       i really really like   \n",
       "...                                       ...   \n",
       "27467                                 welcome   \n",
       "27469   94 more days till bh comes back to la   \n",
       "27472                                too late   \n",
       "27474                                    good   \n",
       "27476        lost his job and can`t afford it   \n",
       "\n",
       "                         selected_text_lower  \\\n",
       "0        i`d have responded, if i were going   \n",
       "3                             leave me alone   \n",
       "4                              sons of ****,   \n",
       "9               wow... u just became cooler.   \n",
       "11                                      like   \n",
       "...                                      ...   \n",
       "27467                                welcome   \n",
       "27469  94 more days till bh comes back to la   \n",
       "27472                          were too late   \n",
       "27474                         i feel good ab   \n",
       "27476                                 d lost   \n",
       "\n",
       "                                    manual_selected_text  \n",
       "0      [unused934] extant [unused412] [unused32] loca...  \n",
       "3                              [unused984] [unused157] 耳  \n",
       "4                       ballet [unused8] [UNK] [unused5]  \n",
       "9      ##orough [unused729] ノ [unused94] w judith [un...  \n",
       "11                                                 [CLS]  \n",
       "...                                                  ...  \n",
       "27467                                            friends  \n",
       "27469  burial [unused54] [unused355] clinical [unused...  \n",
       "27472                 [unused57] [unused345] [unused623]  \n",
       "27474     [unused934] [unused614] [unused200] [unused58]  \n",
       "27476  wall [unused51] [unused110] [unused278] [unuse...  \n",
       "\n",
       "[5496 rows x 7 columns]"
      ]
     },
     "execution_count": 23,
     "metadata": {},
     "output_type": "execute_result"
    }
   ],
   "source": [
    "predicted_texts = _get_predicted_texts(ckpt['val_input_ids'], ckpt['val_preds'][0],  ckpt['val_preds'][1], tokenizer)\n",
    "trn_df['predicted_texts'] = predicted_texts\n",
    "trn_df"
   ]
  },
  {
   "cell_type": "code",
   "execution_count": 24,
   "metadata": {
    "scrolled": true
   },
   "outputs": [
    {
     "data": {
      "text/html": [
       "<div>\n",
       "<style scoped>\n",
       "    .dataframe tbody tr th:only-of-type {\n",
       "        vertical-align: middle;\n",
       "    }\n",
       "\n",
       "    .dataframe tbody tr th {\n",
       "        vertical-align: top;\n",
       "    }\n",
       "\n",
       "    .dataframe thead th {\n",
       "        text-align: right;\n",
       "    }\n",
       "</style>\n",
       "<table border=\"1\" class=\"dataframe\">\n",
       "  <thead>\n",
       "    <tr style=\"text-align: right;\">\n",
       "      <th></th>\n",
       "      <th>textID</th>\n",
       "      <th>text</th>\n",
       "      <th>selected_text</th>\n",
       "      <th>sentiment</th>\n",
       "      <th>predicted_texts</th>\n",
       "      <th>selected_text_lower</th>\n",
       "      <th>manual_selected_text</th>\n",
       "    </tr>\n",
       "  </thead>\n",
       "  <tbody>\n",
       "    <tr>\n",
       "      <th>0</th>\n",
       "      <td>cb774db0d1</td>\n",
       "      <td>I`d have responded, if I were going</td>\n",
       "      <td>I`d have responded, if I were going</td>\n",
       "      <td>neutral</td>\n",
       "      <td>i`d have responded, if i were going</td>\n",
       "      <td>i`d have responded, if i were going</td>\n",
       "      <td>i`d have responded, if i were going</td>\n",
       "    </tr>\n",
       "    <tr>\n",
       "      <th>3</th>\n",
       "      <td>9642c003ef</td>\n",
       "      <td>what interview! leave me alone</td>\n",
       "      <td>leave me alone</td>\n",
       "      <td>negative</td>\n",
       "      <td>leave me alone</td>\n",
       "      <td>leave me alone</td>\n",
       "      <td>leave me alone</td>\n",
       "    </tr>\n",
       "    <tr>\n",
       "      <th>4</th>\n",
       "      <td>358bd9e861</td>\n",
       "      <td>Sons of ****, why couldn`t they put them on t...</td>\n",
       "      <td>Sons of ****,</td>\n",
       "      <td>negative</td>\n",
       "      <td>sons of ****,</td>\n",
       "      <td>sons of ****,</td>\n",
       "      <td>sons of ****,</td>\n",
       "    </tr>\n",
       "    <tr>\n",
       "      <th>9</th>\n",
       "      <td>fc2cbefa9d</td>\n",
       "      <td>Journey!? Wow... u just became cooler.  hehe....</td>\n",
       "      <td>Wow... u just became cooler.</td>\n",
       "      <td>positive</td>\n",
       "      <td>wow... u just became cooler.</td>\n",
       "      <td>wow... u just became cooler.</td>\n",
       "      <td>wow... u just became cooler.</td>\n",
       "    </tr>\n",
       "    <tr>\n",
       "      <th>11</th>\n",
       "      <td>16fab9f95b</td>\n",
       "      <td>I really really like the song Love Story by Ta...</td>\n",
       "      <td>like</td>\n",
       "      <td>positive</td>\n",
       "      <td>i really really like</td>\n",
       "      <td>like</td>\n",
       "      <td>like</td>\n",
       "    </tr>\n",
       "    <tr>\n",
       "      <th>...</th>\n",
       "      <td>...</td>\n",
       "      <td>...</td>\n",
       "      <td>...</td>\n",
       "      <td>...</td>\n",
       "      <td>...</td>\n",
       "      <td>...</td>\n",
       "      <td>...</td>\n",
       "    </tr>\n",
       "    <tr>\n",
       "      <th>27467</th>\n",
       "      <td>432e6de6c9</td>\n",
       "      <td>morning twit-friends! welcome to my new followers</td>\n",
       "      <td>welcome</td>\n",
       "      <td>positive</td>\n",
       "      <td>welcome</td>\n",
       "      <td>welcome</td>\n",
       "      <td>welcome</td>\n",
       "    </tr>\n",
       "    <tr>\n",
       "      <th>27469</th>\n",
       "      <td>ac92790d8b</td>\n",
       "      <td>94 more days till BH comes back to LA</td>\n",
       "      <td>94 more days till BH comes back to LA</td>\n",
       "      <td>neutral</td>\n",
       "      <td>94 more days till bh comes back to la</td>\n",
       "      <td>94 more days till bh comes back to la</td>\n",
       "      <td>94 more days till bh comes back to la</td>\n",
       "    </tr>\n",
       "    <tr>\n",
       "      <th>27472</th>\n",
       "      <td>8f5adc47ec</td>\n",
       "      <td>http://twitpic.com/663vr - Wanted to visit the...</td>\n",
       "      <td>were too late</td>\n",
       "      <td>negative</td>\n",
       "      <td>too late</td>\n",
       "      <td>were too late</td>\n",
       "      <td>were too late</td>\n",
       "    </tr>\n",
       "    <tr>\n",
       "      <th>27474</th>\n",
       "      <td>8f14bb2715</td>\n",
       "      <td>So I get up early and I feel good about the da...</td>\n",
       "      <td>I feel good ab</td>\n",
       "      <td>positive</td>\n",
       "      <td>good</td>\n",
       "      <td>i feel good ab</td>\n",
       "      <td>i feel good about</td>\n",
       "    </tr>\n",
       "    <tr>\n",
       "      <th>27476</th>\n",
       "      <td>4eac33d1c0</td>\n",
       "      <td>wish we could come see u on Denver  husband l...</td>\n",
       "      <td>d lost</td>\n",
       "      <td>negative</td>\n",
       "      <td>lost his job and can`t afford it</td>\n",
       "      <td>d lost</td>\n",
       "      <td>wish we could come see u on denver husband lo...</td>\n",
       "    </tr>\n",
       "  </tbody>\n",
       "</table>\n",
       "<p>5496 rows × 7 columns</p>\n",
       "</div>"
      ],
      "text/plain": [
       "           textID                                               text  \\\n",
       "0      cb774db0d1                I`d have responded, if I were going   \n",
       "3      9642c003ef                     what interview! leave me alone   \n",
       "4      358bd9e861   Sons of ****, why couldn`t they put them on t...   \n",
       "9      fc2cbefa9d   Journey!? Wow... u just became cooler.  hehe....   \n",
       "11     16fab9f95b  I really really like the song Love Story by Ta...   \n",
       "...           ...                                                ...   \n",
       "27467  432e6de6c9  morning twit-friends! welcome to my new followers   \n",
       "27469  ac92790d8b              94 more days till BH comes back to LA   \n",
       "27472  8f5adc47ec  http://twitpic.com/663vr - Wanted to visit the...   \n",
       "27474  8f14bb2715  So I get up early and I feel good about the da...   \n",
       "27476  4eac33d1c0   wish we could come see u on Denver  husband l...   \n",
       "\n",
       "                               selected_text sentiment  \\\n",
       "0        I`d have responded, if I were going   neutral   \n",
       "3                             leave me alone  negative   \n",
       "4                              Sons of ****,  negative   \n",
       "9               Wow... u just became cooler.  positive   \n",
       "11                                      like  positive   \n",
       "...                                      ...       ...   \n",
       "27467                                welcome  positive   \n",
       "27469  94 more days till BH comes back to LA   neutral   \n",
       "27472                          were too late  negative   \n",
       "27474                         I feel good ab  positive   \n",
       "27476                                 d lost  negative   \n",
       "\n",
       "                              predicted_texts  \\\n",
       "0         i`d have responded, if i were going   \n",
       "3                              leave me alone   \n",
       "4                               sons of ****,   \n",
       "9                wow... u just became cooler.   \n",
       "11                       i really really like   \n",
       "...                                       ...   \n",
       "27467                                 welcome   \n",
       "27469   94 more days till bh comes back to la   \n",
       "27472                                too late   \n",
       "27474                                    good   \n",
       "27476        lost his job and can`t afford it   \n",
       "\n",
       "                         selected_text_lower  \\\n",
       "0        i`d have responded, if i were going   \n",
       "3                             leave me alone   \n",
       "4                              sons of ****,   \n",
       "9               wow... u just became cooler.   \n",
       "11                                      like   \n",
       "...                                      ...   \n",
       "27467                                welcome   \n",
       "27469  94 more days till bh comes back to la   \n",
       "27472                          were too late   \n",
       "27474                         i feel good ab   \n",
       "27476                                 d lost   \n",
       "\n",
       "                                    manual_selected_text  \n",
       "0                    i`d have responded, if i were going  \n",
       "3                                         leave me alone  \n",
       "4                                          sons of ****,  \n",
       "9                           wow... u just became cooler.  \n",
       "11                                                  like  \n",
       "...                                                  ...  \n",
       "27467                                            welcome  \n",
       "27469              94 more days till bh comes back to la  \n",
       "27472                                      were too late  \n",
       "27474                                  i feel good about  \n",
       "27476   wish we could come see u on denver husband lo...  \n",
       "\n",
       "[5496 rows x 7 columns]"
      ]
     },
     "execution_count": 24,
     "metadata": {},
     "output_type": "execute_result"
    }
   ],
   "source": [
    "manual_selected_texts = _get_selected_texts(ckpt['val_input_ids'], ckpt['val_labels'][0],  ckpt['val_labels'][1], tokenizer)\n",
    "trn_df['manual_selected_text'] = manual_selected_texts\n",
    "trn_df"
   ]
  },
  {
   "cell_type": "code",
   "execution_count": 14,
   "metadata": {},
   "outputs": [
    {
     "data": {
      "text/plain": [
       "(tensor(1), tensor(11))"
      ]
     },
     "execution_count": 14,
     "metadata": {},
     "output_type": "execute_result"
    }
   ],
   "source": [
    "ckpt['val_labels'][0][0],  ckpt['val_labels'][1][0]"
   ]
  },
  {
   "cell_type": "code",
   "execution_count": 16,
   "metadata": {},
   "outputs": [
    {
     "data": {
      "text/plain": [
       "tensor([    0,   939, 12905,   417,    33,  2334,     6,   114,   939,    58,\n",
       "          164,     2,     2, 50265,     2,     1,     1,     1,     1,     1,\n",
       "            1,     1,     1,     1,     1,     1,     1,     1,     1,     1,\n",
       "            1,     1,     1,     1,     1,     1,     1,     1,     1,     1,\n",
       "            1,     1,     1,     1,     1,     1,     1,     1,     1,     1,\n",
       "            1,     1,     1,     1,     1,     1,     1,     1,     1,     1,\n",
       "            1,     1,     1,     1,     1,     1,     1,     1,     1,     1,\n",
       "            1,     1,     1,     1,     1,     1,     1,     1,     1,     1,\n",
       "            1,     1,     1,     1,     1,     1,     1,     1,     1,     1,\n",
       "            1,     1,     1,     1,     1,     1,     1,     1,     1,     1,\n",
       "            1,     1,     1,     1,     1,     1,     1,     1,     1,     1,\n",
       "            1,     1,     1,     1,     1,     1,     1,     1,     1,     1,\n",
       "            1,     1,     1,     1,     1])"
      ]
     },
     "execution_count": 16,
     "metadata": {},
     "output_type": "execute_result"
    }
   ],
   "source": [
    "ckpt['val_input_ids'][0]"
   ]
  },
  {
   "cell_type": "code",
   "execution_count": 61,
   "metadata": {},
   "outputs": [
    {
     "data": {
      "text/plain": [
       "{'input_ids': [101, 2066, 102],\n",
       " 'token_type_ids': [0, 0, 0],\n",
       " 'attention_mask': [1, 1, 1]}"
      ]
     },
     "execution_count": 61,
     "metadata": {},
     "output_type": "execute_result"
    }
   ],
   "source": [
    "tokenizer.encode_plus(trn_df.loc[11]['selected_text'])"
   ]
  },
  {
   "cell_type": "code",
   "execution_count": 78,
   "metadata": {},
   "outputs": [
    {
     "data": {
      "text/plain": [
       "[2066]"
      ]
     },
     "execution_count": 78,
     "metadata": {},
     "output_type": "execute_result"
    }
   ],
   "source": [
    "tokenizer.encode_plus(trn_df.loc[11]['selected_text'], add_special_tokens=False)['input_ids']"
   ]
  },
  {
   "cell_type": "code",
   "execution_count": null,
   "metadata": {},
   "outputs": [],
   "source": []
  },
  {
   "cell_type": "code",
   "execution_count": null,
   "metadata": {},
   "outputs": [],
   "source": []
  },
  {
   "cell_type": "markdown",
   "metadata": {},
   "source": [
    "## debug"
   ]
  },
  {
   "cell_type": "code",
   "execution_count": 12,
   "metadata": {},
   "outputs": [],
   "source": [
    "def _prep_text(row, tokenizer):\n",
    "    text_output = tokenizer.encode_plus(\n",
    "        text=row['text'],\n",
    "        text_pair=None,\n",
    "        add_special_tokens=True,\n",
    "        max_length=250,\n",
    "        pad_to_max_length=True,\n",
    "        return_tensor='pt',\n",
    "        return_token_type_ids=False,\n",
    "        return_attention_mask=True,\n",
    "    )\n",
    "    row['input_ids'] = text_output['input_ids']\n",
    "    row['attention_mask'] = text_output['attention_mask']\n",
    "    if 'selected_text' not in row:\n",
    "        row['labels_head'] = -1\n",
    "        row['labels_tail'] = -1\n",
    "        return row\n",
    "\n",
    "    selected_text_output = tokenizer.encode_plus(\n",
    "        text=row['selected_text'],\n",
    "        text_pair=None,\n",
    "        add_special_tokens=False,\n",
    "        max_length=250,\n",
    "        pad_to_max_length=False,\n",
    "        return_tensor='pt',\n",
    "        return_token_type_ids=False,\n",
    "        return_attention_mask=False,\n",
    "    )\n",
    "\n",
    "    # allign labels for segmentation\n",
    "    input_ids = text_output['input_ids']\n",
    "    sel_input_ids = selected_text_output['input_ids']\n",
    "    matched_cnt = len([i for i in input_ids[:len(sel_input_ids)]\n",
    "                       if i in sel_input_ids])\n",
    "    best_matched_cnt = matched_cnt\n",
    "    best_matched_i = 0\n",
    "    # for i in range(0, len(input_ids)):\n",
    "    for i in range(0, len(input_ids) - len(sel_input_ids)):\n",
    "        head_input_id_i = input_ids[i]\n",
    "        tail_input_id_i = input_ids[i + len(sel_input_ids)]\n",
    "        if head_input_id_i in sel_input_ids:\n",
    "            matched_cnt -= 1\n",
    "        if tail_input_id_i in sel_input_ids:\n",
    "            matched_cnt += 1\n",
    "        if matched_cnt < 0:\n",
    "            raise Exception('invalid logic')\n",
    "\n",
    "        if best_matched_cnt < matched_cnt:\n",
    "            best_matched_cnt = matched_cnt\n",
    "            best_matched_i = i + 1   # \u001b$BH4$$$?;~$NOC$J$N$G\u001b(B\n",
    "        if best_matched_cnt == len(sel_input_ids):\n",
    "            break\n",
    "\n",
    "    if best_matched_cnt == 0:\n",
    "        print('===============================')\n",
    "        print(row)\n",
    "        print('===============================')\n",
    "        print(input_ids)\n",
    "        print(sel_input_ids)\n",
    "        print(selected_text_output['input_ids'])\n",
    "\n",
    "    row['labels_head'] = best_matched_i\n",
    "    row['labels_tail'] = best_matched_i + len(sel_input_ids)\n",
    "    return row"
   ]
  },
  {
   "cell_type": "code",
   "execution_count": 13,
   "metadata": {},
   "outputs": [
    {
     "data": {
      "text/plain": [
       "textID                                                         16fab9f95b\n",
       "text                    I really really like the song Love Story by Ta...\n",
       "selected_text                                                        like\n",
       "sentiment                                                        positive\n",
       "predicted_texts                                                love story\n",
       "manual_selected_text                                             like the\n",
       "input_ids               [101, 1045, 2428, 2428, 2066, 1996, 2299, 2293...\n",
       "attention_mask          [1, 1, 1, 1, 1, 1, 1, 1, 1, 1, 1, 1, 1, 0, 0, ...\n",
       "labels_head                                                             4\n",
       "labels_tail                                                             5\n",
       "Name: 11, dtype: object"
      ]
     },
     "execution_count": 13,
     "metadata": {},
     "output_type": "execute_result"
    }
   ],
   "source": [
    "res_row = _prep_text(trn_df.loc[11], tokenizer)\n",
    "res_row"
   ]
  },
  {
   "cell_type": "code",
   "execution_count": null,
   "metadata": {},
   "outputs": [],
   "source": []
  },
  {
   "cell_type": "markdown",
   "metadata": {},
   "source": [
    "## tokenizer 確認"
   ]
  },
  {
   "cell_type": "code",
   "execution_count": 17,
   "metadata": {},
   "outputs": [],
   "source": [
    "import sys\n",
    "sys.path.append('../')\n",
    "from tools.tokenizers import myRobertaByteLevelBPETokenizer\n",
    "\n",
    "my_tokenizer = myRobertaByteLevelBPETokenizer(   \n",
    "    vocab_file='../inputs/datasets/roberta/tokenizer/vocab.json',\n",
    "    merges_file='../inputs/datasets/roberta/tokenizer/merges.txt',\n",
    "    lowercase=True,\n",
    "    add_prefix_space=True)"
   ]
  },
  {
   "cell_type": "code",
   "execution_count": 21,
   "metadata": {},
   "outputs": [
    {
     "data": {
      "text/plain": [
       "' i`d have responded, if i were going'"
      ]
     },
     "execution_count": 21,
     "metadata": {},
     "output_type": "execute_result"
    }
   ],
   "source": [
    "my_tokenizer.decode(ckpt['val_input_ids'][0][1:11])"
   ]
  },
  {
   "cell_type": "code",
   "execution_count": null,
   "metadata": {},
   "outputs": [],
   "source": []
  },
  {
   "cell_type": "code",
   "execution_count": null,
   "metadata": {},
   "outputs": [],
   "source": []
  },
  {
   "cell_type": "code",
   "execution_count": null,
   "metadata": {},
   "outputs": [],
   "source": []
  },
  {
   "cell_type": "code",
   "execution_count": null,
   "metadata": {},
   "outputs": [],
   "source": []
  },
  {
   "cell_type": "code",
   "execution_count": null,
   "metadata": {},
   "outputs": [],
   "source": []
  },
  {
   "cell_type": "code",
   "execution_count": 52,
   "metadata": {},
   "outputs": [],
   "source": [
    "def jaccard(str1, str2):\n",
    "    a = set(str1.lower().split())\n",
    "    b = set(str2.lower().split())\n",
    "    c = a.intersection(b)\n",
    "    return float(len(c)) / (len(a) + len(b) - len(c))"
   ]
  },
  {
   "cell_type": "code",
   "execution_count": 53,
   "metadata": {},
   "outputs": [],
   "source": [
    "temp_jac = 0\n",
    "for i, row in trn_df.iterrows():\n",
    "    temp_jac += jaccard(row['selected_text'], row['predicted_texts'])"
   ]
  },
  {
   "cell_type": "code",
   "execution_count": 54,
   "metadata": {},
   "outputs": [
    {
     "data": {
      "text/plain": [
       "0.44581498228808364"
      ]
     },
     "execution_count": 54,
     "metadata": {},
     "output_type": "execute_result"
    }
   ],
   "source": [
    "temp_jac / len(trn_df)"
   ]
  },
  {
   "cell_type": "code",
   "execution_count": null,
   "metadata": {},
   "outputs": [],
   "source": []
  },
  {
   "cell_type": "markdown",
   "metadata": {},
   "source": [
    "## 改善の必要あり\n",
    " - decode すると違う形式になってしまう\n",
    " - selected_text を encode -> decode して形式が変わるパターンを除去する後処理が必要そう"
   ]
  },
  {
   "cell_type": "code",
   "execution_count": 75,
   "metadata": {},
   "outputs": [
    {
     "data": {
      "text/plain": [
       "textID                                                         cb774db0d1\n",
       "text                                  I`d have responded, if I were going\n",
       "selected_text                         I`d have responded, if I were going\n",
       "sentiment                                                         neutral\n",
       "predicted_texts         i ` d have responded, if i were going [SEP] [PAD]\n",
       "manual_selected_text    i ` d have responded, if i were going [SEP] [PAD]\n",
       "Name: 0, dtype: object"
      ]
     },
     "execution_count": 75,
     "metadata": {},
     "output_type": "execute_result"
    }
   ],
   "source": [
    "trn_df.loc[0]"
   ]
  },
  {
   "cell_type": "code",
   "execution_count": 74,
   "metadata": {},
   "outputs": [
    {
     "data": {
      "text/plain": [
       "0.6666666666666666"
      ]
     },
     "execution_count": 74,
     "metadata": {},
     "output_type": "execute_result"
    }
   ],
   "source": [
    "jaccard(trn_df.loc[0]['selected_text'], trn_df.loc[0]['predicted_texts'][:-12])"
   ]
  },
  {
   "cell_type": "code",
   "execution_count": 72,
   "metadata": {},
   "outputs": [
    {
     "data": {
      "text/plain": [
       "('have responded, if I were going', 'have responded, if i were going')"
      ]
     },
     "execution_count": 72,
     "metadata": {},
     "output_type": "execute_result"
    }
   ],
   "source": [
    "trn_df.loc[0]['selected_text'][4:], trn_df.loc[0]['predicted_texts'][6:-12]"
   ]
  }
 ],
 "metadata": {
  "kernelspec": {
   "display_name": "Python 3",
   "language": "python",
   "name": "python3"
  },
  "language_info": {
   "codemirror_mode": {
    "name": "ipython",
    "version": 3
   },
   "file_extension": ".py",
   "mimetype": "text/x-python",
   "name": "python",
   "nbconvert_exporter": "python",
   "pygments_lexer": "ipython3",
   "version": "3.7.6"
  },
  "toc": {
   "base_numbering": 1,
   "nav_menu": {},
   "number_sections": true,
   "sideBar": true,
   "skip_h1_title": false,
   "title_cell": "Table of Contents",
   "title_sidebar": "Contents",
   "toc_cell": false,
   "toc_position": {},
   "toc_section_display": true,
   "toc_window_display": false
  }
 },
 "nbformat": 4,
 "nbformat_minor": 2
}
